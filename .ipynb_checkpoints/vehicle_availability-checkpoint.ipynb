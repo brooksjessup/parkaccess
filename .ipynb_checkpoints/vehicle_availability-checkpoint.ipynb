{
 "cells": [
  {
   "cell_type": "code",
   "execution_count": 3,
   "id": "7b4420f2-991d-47ba-9b05-d31c9748b8b7",
   "metadata": {},
   "outputs": [],
   "source": [
    "import pandas as pd\n",
    "import geopandas as gpd"
   ]
  },
  {
   "cell_type": "code",
   "execution_count": 4,
   "id": "0f8f3914-975e-4256-b158-7fa3d268a2c5",
   "metadata": {},
   "outputs": [
    {
     "name": "stdout",
     "output_type": "stream",
     "text": [
      "(9129, 13)\n"
     ]
    },
    {
     "data": {
      "text/html": [
       "<div>\n",
       "<style scoped>\n",
       "    .dataframe tbody tr th:only-of-type {\n",
       "        vertical-align: middle;\n",
       "    }\n",
       "\n",
       "    .dataframe tbody tr th {\n",
       "        vertical-align: top;\n",
       "    }\n",
       "\n",
       "    .dataframe thead th {\n",
       "        text-align: right;\n",
       "    }\n",
       "</style>\n",
       "<table border=\"1\" class=\"dataframe\">\n",
       "  <thead>\n",
       "    <tr style=\"text-align: right;\">\n",
       "      <th></th>\n",
       "      <th>STATEFP</th>\n",
       "      <th>COUNTYFP</th>\n",
       "      <th>TRACTCE</th>\n",
       "      <th>GEOID</th>\n",
       "      <th>NAME</th>\n",
       "      <th>NAMELSAD</th>\n",
       "      <th>MTFCC</th>\n",
       "      <th>FUNCSTAT</th>\n",
       "      <th>ALAND</th>\n",
       "      <th>AWATER</th>\n",
       "      <th>INTPTLAT</th>\n",
       "      <th>INTPTLON</th>\n",
       "      <th>geometry</th>\n",
       "    </tr>\n",
       "  </thead>\n",
       "  <tbody>\n",
       "    <tr>\n",
       "      <th>0</th>\n",
       "      <td>06</td>\n",
       "      <td>085</td>\n",
       "      <td>504321</td>\n",
       "      <td>06085504321</td>\n",
       "      <td>5043.21</td>\n",
       "      <td>Census Tract 5043.21</td>\n",
       "      <td>G5020</td>\n",
       "      <td>S</td>\n",
       "      <td>1450237</td>\n",
       "      <td>0</td>\n",
       "      <td>+37.3931319</td>\n",
       "      <td>-121.8651427</td>\n",
       "      <td>POLYGON ((-121.87556 37.39924, -121.87535 37.3...</td>\n",
       "    </tr>\n",
       "    <tr>\n",
       "      <th>1</th>\n",
       "      <td>06</td>\n",
       "      <td>085</td>\n",
       "      <td>504410</td>\n",
       "      <td>06085504410</td>\n",
       "      <td>5044.10</td>\n",
       "      <td>Census Tract 5044.10</td>\n",
       "      <td>G5020</td>\n",
       "      <td>S</td>\n",
       "      <td>1102136</td>\n",
       "      <td>0</td>\n",
       "      <td>+37.4093719</td>\n",
       "      <td>-121.8788884</td>\n",
       "      <td>POLYGON ((-121.88886 37.40758, -121.88576 37.4...</td>\n",
       "    </tr>\n",
       "    <tr>\n",
       "      <th>2</th>\n",
       "      <td>06</td>\n",
       "      <td>085</td>\n",
       "      <td>507003</td>\n",
       "      <td>06085507003</td>\n",
       "      <td>5070.03</td>\n",
       "      <td>Census Tract 5070.03</td>\n",
       "      <td>G5020</td>\n",
       "      <td>S</td>\n",
       "      <td>9529865</td>\n",
       "      <td>0</td>\n",
       "      <td>+37.2199936</td>\n",
       "      <td>-121.9979512</td>\n",
       "      <td>POLYGON ((-122.02489 37.21683, -122.02459 37.2...</td>\n",
       "    </tr>\n",
       "    <tr>\n",
       "      <th>3</th>\n",
       "      <td>06</td>\n",
       "      <td>085</td>\n",
       "      <td>507004</td>\n",
       "      <td>06085507004</td>\n",
       "      <td>5070.04</td>\n",
       "      <td>Census Tract 5070.04</td>\n",
       "      <td>G5020</td>\n",
       "      <td>S</td>\n",
       "      <td>2424447</td>\n",
       "      <td>0</td>\n",
       "      <td>+37.2260144</td>\n",
       "      <td>-121.9763816</td>\n",
       "      <td>POLYGON ((-121.99304 37.22562, -121.99249 37.2...</td>\n",
       "    </tr>\n",
       "    <tr>\n",
       "      <th>4</th>\n",
       "      <td>06</td>\n",
       "      <td>085</td>\n",
       "      <td>502204</td>\n",
       "      <td>06085502204</td>\n",
       "      <td>5022.04</td>\n",
       "      <td>Census Tract 5022.04</td>\n",
       "      <td>G5020</td>\n",
       "      <td>S</td>\n",
       "      <td>331145</td>\n",
       "      <td>0</td>\n",
       "      <td>+37.3013832</td>\n",
       "      <td>-121.9258424</td>\n",
       "      <td>POLYGON ((-121.93167 37.29803, -121.92801 37.3...</td>\n",
       "    </tr>\n",
       "  </tbody>\n",
       "</table>\n",
       "</div>"
      ],
      "text/plain": [
       "  STATEFP COUNTYFP TRACTCE        GEOID     NAME              NAMELSAD  MTFCC  \\\n",
       "0      06      085  504321  06085504321  5043.21  Census Tract 5043.21  G5020   \n",
       "1      06      085  504410  06085504410  5044.10  Census Tract 5044.10  G5020   \n",
       "2      06      085  507003  06085507003  5070.03  Census Tract 5070.03  G5020   \n",
       "3      06      085  507004  06085507004  5070.04  Census Tract 5070.04  G5020   \n",
       "4      06      085  502204  06085502204  5022.04  Census Tract 5022.04  G5020   \n",
       "\n",
       "  FUNCSTAT    ALAND  AWATER     INTPTLAT      INTPTLON  \\\n",
       "0        S  1450237       0  +37.3931319  -121.8651427   \n",
       "1        S  1102136       0  +37.4093719  -121.8788884   \n",
       "2        S  9529865       0  +37.2199936  -121.9979512   \n",
       "3        S  2424447       0  +37.2260144  -121.9763816   \n",
       "4        S   331145       0  +37.3013832  -121.9258424   \n",
       "\n",
       "                                            geometry  \n",
       "0  POLYGON ((-121.87556 37.39924, -121.87535 37.3...  \n",
       "1  POLYGON ((-121.88886 37.40758, -121.88576 37.4...  \n",
       "2  POLYGON ((-122.02489 37.21683, -122.02459 37.2...  \n",
       "3  POLYGON ((-121.99304 37.22562, -121.99249 37.2...  \n",
       "4  POLYGON ((-121.93167 37.29803, -121.92801 37.3...  "
      ]
     },
     "execution_count": 4,
     "metadata": {},
     "output_type": "execute_result"
    }
   ],
   "source": [
    "# Read in the 2021 census tract shapefiles for California\n",
    "\n",
    "census_tracts_gdf = gpd.read_file(\"data/census/census_tracts/tl_2021_06_tract.shp\")\n",
    "\n",
    "print(census_tracts_gdf.shape)\n",
    "census_tracts_gdf.head()"
   ]
  },
  {
   "cell_type": "code",
   "execution_count": 7,
   "id": "8aee3b8b-ba09-4bac-9228-54ddf9d5adfd",
   "metadata": {},
   "outputs": [
    {
     "name": "stdout",
     "output_type": "stream",
     "text": [
      "(621, 13)\n"
     ]
    },
    {
     "data": {
      "text/plain": [
       "<AxesSubplot:>"
      ]
     },
     "execution_count": 7,
     "metadata": {},
     "output_type": "execute_result"
    },
    {
     "data": {
      "image/png": "[encoded data removed]",
      "text/plain": [
       "<Figure size 432x288 with 1 Axes>"
      ]
     },
     "metadata": {
      "needs_background": "light"
     },
     "output_type": "display_data"
    }
   ],
   "source": [
    "# Reduce the data to just Alameda and Contra Costa counties\n",
    "\n",
    "# FIPS codes\n",
    "alameda = \"001\"\n",
    "contra_costa = \"013\"\n",
    "\n",
    "# Filter the data\n",
    "census_tracts_gdf = census_tracts_gdf.loc[census_tracts_gdf[\"COUNTYFP\"].isin([alameda, contra_costa])]\n",
    "\n",
    "print(census_tracts_gdf.shape)\n",
    "census_tracts_gdf.plot()"
   ]
  },
  {
   "cell_type": "code",
   "execution_count": 9,
   "id": "474fe418-751a-481d-940a-426177b06534",
   "metadata": {},
   "outputs": [
    {
     "name": "stdout",
     "output_type": "stream",
     "text": [
      "(569, 3)\n"
     ]
    },
    {
     "data": {
      "text/html": [
       "<div>\n",
       "<style scoped>\n",
       "    .dataframe tbody tr th:only-of-type {\n",
       "        vertical-align: middle;\n",
       "    }\n",
       "\n",
       "    .dataframe tbody tr th {\n",
       "        vertical-align: top;\n",
       "    }\n",
       "\n",
       "    .dataframe thead th {\n",
       "        text-align: right;\n",
       "    }\n",
       "</style>\n",
       "<table border=\"1\" class=\"dataframe\">\n",
       "  <thead>\n",
       "    <tr style=\"text-align: right;\">\n",
       "      <th></th>\n",
       "      <th>GEOID</th>\n",
       "      <th>Total_Households</th>\n",
       "      <th>No_Vehicle_Available</th>\n",
       "    </tr>\n",
       "  </thead>\n",
       "  <tbody>\n",
       "    <tr>\n",
       "      <th>0</th>\n",
       "      <td>1400000US06001400100</td>\n",
       "      <td>1293</td>\n",
       "      <td>32</td>\n",
       "    </tr>\n",
       "    <tr>\n",
       "      <th>1</th>\n",
       "      <td>1400000US06001400200</td>\n",
       "      <td>847</td>\n",
       "      <td>39</td>\n",
       "    </tr>\n",
       "    <tr>\n",
       "      <th>2</th>\n",
       "      <td>1400000US06001400300</td>\n",
       "      <td>2441</td>\n",
       "      <td>371</td>\n",
       "    </tr>\n",
       "    <tr>\n",
       "      <th>3</th>\n",
       "      <td>1400000US06001400400</td>\n",
       "      <td>1802</td>\n",
       "      <td>170</td>\n",
       "    </tr>\n",
       "    <tr>\n",
       "      <th>4</th>\n",
       "      <td>1400000US06001400500</td>\n",
       "      <td>1606</td>\n",
       "      <td>186</td>\n",
       "    </tr>\n",
       "  </tbody>\n",
       "</table>\n",
       "</div>"
      ],
      "text/plain": [
       "                  GEOID  Total_Households  No_Vehicle_Available\n",
       "0  1400000US06001400100              1293                    32\n",
       "1  1400000US06001400200               847                    39\n",
       "2  1400000US06001400300              2441                   371\n",
       "3  1400000US06001400400              1802                   170\n",
       "4  1400000US06001400500              1606                   186"
      ]
     },
     "execution_count": 9,
     "metadata": {},
     "output_type": "execute_result"
    }
   ],
   "source": [
    "# REad in the vehicle availability data\n",
    "\n",
    "vehicle_df = pd.read_csv(\"data/census/vehicle/vehicle_availability_data.csv\")\n",
    "\n",
    "print(vehicle_df.shape)\n",
    "vehicle_df.head()"
   ]
  },
  {
   "cell_type": "code",
   "execution_count": 21,
   "id": "4ed19e53-9c3b-4deb-bff6-9cb51c0c54f2",
   "metadata": {},
   "outputs": [
    {
     "data": {
      "text/html": [
       "<div>\n",
       "<style scoped>\n",
       "    .dataframe tbody tr th:only-of-type {\n",
       "        vertical-align: middle;\n",
       "    }\n",
       "\n",
       "    .dataframe tbody tr th {\n",
       "        vertical-align: top;\n",
       "    }\n",
       "\n",
       "    .dataframe thead th {\n",
       "        text-align: right;\n",
       "    }\n",
       "</style>\n",
       "<table border=\"1\" class=\"dataframe\">\n",
       "  <thead>\n",
       "    <tr style=\"text-align: right;\">\n",
       "      <th></th>\n",
       "      <th>GEOID</th>\n",
       "      <th>Total_Households</th>\n",
       "      <th>No_Vehicle_Available</th>\n",
       "    </tr>\n",
       "  </thead>\n",
       "  <tbody>\n",
       "    <tr>\n",
       "      <th>0</th>\n",
       "      <td>06001400100</td>\n",
       "      <td>1293</td>\n",
       "      <td>32</td>\n",
       "    </tr>\n",
       "    <tr>\n",
       "      <th>1</th>\n",
       "      <td>06001400200</td>\n",
       "      <td>847</td>\n",
       "      <td>39</td>\n",
       "    </tr>\n",
       "    <tr>\n",
       "      <th>2</th>\n",
       "      <td>06001400300</td>\n",
       "      <td>2441</td>\n",
       "      <td>371</td>\n",
       "    </tr>\n",
       "    <tr>\n",
       "      <th>3</th>\n",
       "      <td>06001400400</td>\n",
       "      <td>1802</td>\n",
       "      <td>170</td>\n",
       "    </tr>\n",
       "    <tr>\n",
       "      <th>4</th>\n",
       "      <td>06001400500</td>\n",
       "      <td>1606</td>\n",
       "      <td>186</td>\n",
       "    </tr>\n",
       "  </tbody>\n",
       "</table>\n",
       "</div>"
      ],
      "text/plain": [
       "         GEOID  Total_Households  No_Vehicle_Available\n",
       "0  06001400100              1293                    32\n",
       "1  06001400200               847                    39\n",
       "2  06001400300              2441                   371\n",
       "3  06001400400              1802                   170\n",
       "4  06001400500              1606                   186"
      ]
     },
     "execution_count": 21,
     "metadata": {},
     "output_type": "execute_result"
    }
   ],
   "source": [
    "# Transform the GEOID\n",
    "\n",
    "vehicle_df[\"GEOID\"] = vehicle_df[\"GEOID\"].apply(lambda x: x[9:])\n",
    "vehicle_df.head()"
   ]
  },
  {
   "cell_type": "code",
   "execution_count": 30,
   "id": "10692712-7e25-4b59-88dc-2db5b904c102",
   "metadata": {},
   "outputs": [
    {
     "name": "stdout",
     "output_type": "stream",
     "text": [
      "(102, 13)\n"
     ]
    },
    {
     "data": {
      "text/html": [
       "<div>\n",
       "<style scoped>\n",
       "    .dataframe tbody tr th:only-of-type {\n",
       "        vertical-align: middle;\n",
       "    }\n",
       "\n",
       "    .dataframe tbody tr th {\n",
       "        vertical-align: top;\n",
       "    }\n",
       "\n",
       "    .dataframe thead th {\n",
       "        text-align: right;\n",
       "    }\n",
       "</style>\n",
       "<table border=\"1\" class=\"dataframe\">\n",
       "  <thead>\n",
       "    <tr style=\"text-align: right;\">\n",
       "      <th></th>\n",
       "      <th>STATEFP</th>\n",
       "      <th>COUNTYFP</th>\n",
       "      <th>TRACTCE</th>\n",
       "      <th>GEOID</th>\n",
       "      <th>NAME</th>\n",
       "      <th>NAMELSAD</th>\n",
       "      <th>MTFCC</th>\n",
       "      <th>FUNCSTAT</th>\n",
       "      <th>ALAND</th>\n",
       "      <th>AWATER</th>\n",
       "      <th>INTPTLAT</th>\n",
       "      <th>INTPTLON</th>\n",
       "      <th>geometry</th>\n",
       "    </tr>\n",
       "  </thead>\n",
       "  <tbody>\n",
       "    <tr>\n",
       "      <th>215</th>\n",
       "      <td>06</td>\n",
       "      <td>013</td>\n",
       "      <td>304006</td>\n",
       "      <td>06013304006</td>\n",
       "      <td>3040.06</td>\n",
       "      <td>Census Tract 3040.06</td>\n",
       "      <td>G5020</td>\n",
       "      <td>S</td>\n",
       "      <td>38505591</td>\n",
       "      <td>2625505</td>\n",
       "      <td>+37.9521279</td>\n",
       "      <td>-121.5995247</td>\n",
       "      <td>POLYGON ((-121.64120 37.91883, -121.64120 37.9...</td>\n",
       "    </tr>\n",
       "    <tr>\n",
       "      <th>216</th>\n",
       "      <td>06</td>\n",
       "      <td>013</td>\n",
       "      <td>392202</td>\n",
       "      <td>06013392202</td>\n",
       "      <td>3922.02</td>\n",
       "      <td>Census Tract 3922.02</td>\n",
       "      <td>G5020</td>\n",
       "      <td>S</td>\n",
       "      <td>1677841</td>\n",
       "      <td>974792</td>\n",
       "      <td>+38.0068674</td>\n",
       "      <td>-122.3205990</td>\n",
       "      <td>POLYGON ((-122.33856 37.99584, -122.33764 37.9...</td>\n",
       "    </tr>\n",
       "    <tr>\n",
       "      <th>217</th>\n",
       "      <td>06</td>\n",
       "      <td>013</td>\n",
       "      <td>392201</td>\n",
       "      <td>06013392201</td>\n",
       "      <td>3922.01</td>\n",
       "      <td>Census Tract 3922.01</td>\n",
       "      <td>G5020</td>\n",
       "      <td>S</td>\n",
       "      <td>9731120</td>\n",
       "      <td>5106683</td>\n",
       "      <td>+37.9917413</td>\n",
       "      <td>-122.3595538</td>\n",
       "      <td>POLYGON ((-122.38783 37.97843, -122.38690 37.9...</td>\n",
       "    </tr>\n",
       "    <tr>\n",
       "      <th>218</th>\n",
       "      <td>06</td>\n",
       "      <td>013</td>\n",
       "      <td>303210</td>\n",
       "      <td>06013303210</td>\n",
       "      <td>3032.10</td>\n",
       "      <td>Census Tract 3032.10</td>\n",
       "      <td>G5020</td>\n",
       "      <td>S</td>\n",
       "      <td>3289685</td>\n",
       "      <td>0</td>\n",
       "      <td>+37.9162293</td>\n",
       "      <td>-121.7223832</td>\n",
       "      <td>POLYGON ((-121.73283 37.92535, -121.73250 37.9...</td>\n",
       "    </tr>\n",
       "    <tr>\n",
       "      <th>219</th>\n",
       "      <td>06</td>\n",
       "      <td>013</td>\n",
       "      <td>355121</td>\n",
       "      <td>06013355121</td>\n",
       "      <td>3551.21</td>\n",
       "      <td>Census Tract 3551.21</td>\n",
       "      <td>G5020</td>\n",
       "      <td>S</td>\n",
       "      <td>4857897</td>\n",
       "      <td>0</td>\n",
       "      <td>+37.7836800</td>\n",
       "      <td>-121.9137603</td>\n",
       "      <td>POLYGON ((-121.92758 37.78982, -121.92757 37.7...</td>\n",
       "    </tr>\n",
       "  </tbody>\n",
       "</table>\n",
       "</div>"
      ],
      "text/plain": [
       "    STATEFP COUNTYFP TRACTCE        GEOID     NAME              NAMELSAD  \\\n",
       "215      06      013  304006  06013304006  3040.06  Census Tract 3040.06   \n",
       "216      06      013  392202  06013392202  3922.02  Census Tract 3922.02   \n",
       "217      06      013  392201  06013392201  3922.01  Census Tract 3922.01   \n",
       "218      06      013  303210  06013303210  3032.10  Census Tract 3032.10   \n",
       "219      06      013  355121  06013355121  3551.21  Census Tract 3551.21   \n",
       "\n",
       "     MTFCC FUNCSTAT     ALAND   AWATER     INTPTLAT      INTPTLON  \\\n",
       "215  G5020        S  38505591  2625505  +37.9521279  -121.5995247   \n",
       "216  G5020        S   1677841   974792  +38.0068674  -122.3205990   \n",
       "217  G5020        S   9731120  5106683  +37.9917413  -122.3595538   \n",
       "218  G5020        S   3289685        0  +37.9162293  -121.7223832   \n",
       "219  G5020        S   4857897        0  +37.7836800  -121.9137603   \n",
       "\n",
       "                                              geometry  \n",
       "215  POLYGON ((-121.64120 37.91883, -121.64120 37.9...  \n",
       "216  POLYGON ((-122.33856 37.99584, -122.33764 37.9...  \n",
       "217  POLYGON ((-122.38783 37.97843, -122.38690 37.9...  \n",
       "218  POLYGON ((-121.73283 37.92535, -121.73250 37.9...  \n",
       "219  POLYGON ((-121.92758 37.78982, -121.92757 37.7...  "
      ]
     },
     "execution_count": 30,
     "metadata": {},
     "output_type": "execute_result"
    }
   ],
   "source": [
    "# Get the tracts that aren't showing up in the vehicle data from the ACS\n",
    "\n",
    "missing = census_tracts_gdf.loc[~census_tracts_gdf[\"GEOID\"].isin(vehicle_df[\"GEOID\"])]\n",
    "\n",
    "print(missing.shape)\n",
    "missing.head()"
   ]
  },
  {
   "cell_type": "code",
   "execution_count": 31,
   "id": "9aff0bb2-638f-4985-a31d-cb910fcaaac7",
   "metadata": {},
   "outputs": [
    {
     "data": {
      "text/plain": [
       "<AxesSubplot:>"
      ]
     },
     "execution_count": 31,
     "metadata": {},
     "output_type": "execute_result"
    },
    {
     "data": {
      "image/png": "[encoded data removed]",
      "text/plain": [
       "<Figure size 432x288 with 1 Axes>"
      ]
     },
     "metadata": {
      "needs_background": "light"
     },
     "output_type": "display_data"
    }
   ],
   "source": [
    "missing.plot()"
   ]
  },
  {
   "cell_type": "code",
   "execution_count": null,
   "id": "30ac2bfa-4122-4359-8009-9c54fbb39189",
   "metadata": {},
   "outputs": [],
   "source": []
  }
 ],
 "metadata": {
  "kernelspec": {
   "display_name": "Python 3 (ipykernel)",
   "language": "python",
   "name": "python3"
  },
  "language_info": {
   "codemirror_mode": {
    "name": "ipython",
    "version": 3
   },
   "file_extension": ".py",
   "mimetype": "text/x-python",
   "name": "python",
   "nbconvert_exporter": "python",
   "pygments_lexer": "ipython3",
   "version": "3.9.7"
  }
 },
 "nbformat": 4,
 "nbformat_minor": 5
}
