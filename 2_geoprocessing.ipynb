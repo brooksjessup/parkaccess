{
 "cells": [
  {
   "cell_type": "markdown",
   "id": "717d93ae-74f2-4791-bae5-41feae1213cb",
   "metadata": {},
   "source": [
    "# Geoprocessing Notebook\n",
    "\n",
    "This notebook processes multiple data sources into a single layer for mapping and analysis."
   ]
  },
  {
   "cell_type": "code",
   "execution_count": 1,
   "id": "2446b6e0-c39f-407d-9b1e-6045a1ed9902",
   "metadata": {},
   "outputs": [],
   "source": [
    "# Import libraries\n",
    "\n",
    "import numpy as np\n",
    "import pandas as pd\n",
    "import geopandas as gpd"
   ]
  },
  {
   "cell_type": "markdown",
   "id": "b4e19381-0b2c-452b-8fb3-8be366684acd",
   "metadata": {},
   "source": [
    "## Census Tract Data"
   ]
  },
  {
   "cell_type": "code",
   "execution_count": 2,
   "id": "12e8eb60-083b-4bf0-b264-e8bfd926eae3",
   "metadata": {},
   "outputs": [
    {
     "name": "stdout",
     "output_type": "stream",
     "text": [
      "(9129, 13)\n"
     ]
    },
    {
     "data": {
      "text/html": [
       "<div>\n",
       "<style scoped>\n",
       "    .dataframe tbody tr th:only-of-type {\n",
       "        vertical-align: middle;\n",
       "    }\n",
       "\n",
       "    .dataframe tbody tr th {\n",
       "        vertical-align: top;\n",
       "    }\n",
       "\n",
       "    .dataframe thead th {\n",
       "        text-align: right;\n",
       "    }\n",
       "</style>\n",
       "<table border=\"1\" class=\"dataframe\">\n",
       "  <thead>\n",
       "    <tr style=\"text-align: right;\">\n",
       "      <th></th>\n",
       "      <th>STATEFP</th>\n",
       "      <th>COUNTYFP</th>\n",
       "      <th>TRACTCE</th>\n",
       "      <th>GEOID</th>\n",
       "      <th>NAME</th>\n",
       "      <th>NAMELSAD</th>\n",
       "      <th>MTFCC</th>\n",
       "      <th>FUNCSTAT</th>\n",
       "      <th>ALAND</th>\n",
       "      <th>AWATER</th>\n",
       "      <th>INTPTLAT</th>\n",
       "      <th>INTPTLON</th>\n",
       "      <th>geometry</th>\n",
       "    </tr>\n",
       "  </thead>\n",
       "  <tbody>\n",
       "    <tr>\n",
       "      <th>0</th>\n",
       "      <td>06</td>\n",
       "      <td>085</td>\n",
       "      <td>504321</td>\n",
       "      <td>06085504321</td>\n",
       "      <td>5043.21</td>\n",
       "      <td>Census Tract 5043.21</td>\n",
       "      <td>G5020</td>\n",
       "      <td>S</td>\n",
       "      <td>1450237</td>\n",
       "      <td>0</td>\n",
       "      <td>+37.3931319</td>\n",
       "      <td>-121.8651427</td>\n",
       "      <td>POLYGON ((-121.87556 37.39924, -121.87535 37.3...</td>\n",
       "    </tr>\n",
       "    <tr>\n",
       "      <th>1</th>\n",
       "      <td>06</td>\n",
       "      <td>085</td>\n",
       "      <td>504410</td>\n",
       "      <td>06085504410</td>\n",
       "      <td>5044.10</td>\n",
       "      <td>Census Tract 5044.10</td>\n",
       "      <td>G5020</td>\n",
       "      <td>S</td>\n",
       "      <td>1102136</td>\n",
       "      <td>0</td>\n",
       "      <td>+37.4093719</td>\n",
       "      <td>-121.8788884</td>\n",
       "      <td>POLYGON ((-121.88886 37.40758, -121.88576 37.4...</td>\n",
       "    </tr>\n",
       "    <tr>\n",
       "      <th>2</th>\n",
       "      <td>06</td>\n",
       "      <td>085</td>\n",
       "      <td>507003</td>\n",
       "      <td>06085507003</td>\n",
       "      <td>5070.03</td>\n",
       "      <td>Census Tract 5070.03</td>\n",
       "      <td>G5020</td>\n",
       "      <td>S</td>\n",
       "      <td>9529865</td>\n",
       "      <td>0</td>\n",
       "      <td>+37.2199936</td>\n",
       "      <td>-121.9979512</td>\n",
       "      <td>POLYGON ((-122.02489 37.21683, -122.02459 37.2...</td>\n",
       "    </tr>\n",
       "    <tr>\n",
       "      <th>3</th>\n",
       "      <td>06</td>\n",
       "      <td>085</td>\n",
       "      <td>507004</td>\n",
       "      <td>06085507004</td>\n",
       "      <td>5070.04</td>\n",
       "      <td>Census Tract 5070.04</td>\n",
       "      <td>G5020</td>\n",
       "      <td>S</td>\n",
       "      <td>2424447</td>\n",
       "      <td>0</td>\n",
       "      <td>+37.2260144</td>\n",
       "      <td>-121.9763816</td>\n",
       "      <td>POLYGON ((-121.99304 37.22562, -121.99249 37.2...</td>\n",
       "    </tr>\n",
       "    <tr>\n",
       "      <th>4</th>\n",
       "      <td>06</td>\n",
       "      <td>085</td>\n",
       "      <td>502204</td>\n",
       "      <td>06085502204</td>\n",
       "      <td>5022.04</td>\n",
       "      <td>Census Tract 5022.04</td>\n",
       "      <td>G5020</td>\n",
       "      <td>S</td>\n",
       "      <td>331145</td>\n",
       "      <td>0</td>\n",
       "      <td>+37.3013832</td>\n",
       "      <td>-121.9258424</td>\n",
       "      <td>POLYGON ((-121.93167 37.29803, -121.92801 37.3...</td>\n",
       "    </tr>\n",
       "  </tbody>\n",
       "</table>\n",
       "</div>"
      ],
      "text/plain": [
       "  STATEFP COUNTYFP TRACTCE        GEOID     NAME              NAMELSAD  MTFCC  \\\n",
       "0      06      085  504321  06085504321  5043.21  Census Tract 5043.21  G5020   \n",
       "1      06      085  504410  06085504410  5044.10  Census Tract 5044.10  G5020   \n",
       "2      06      085  507003  06085507003  5070.03  Census Tract 5070.03  G5020   \n",
       "3      06      085  507004  06085507004  5070.04  Census Tract 5070.04  G5020   \n",
       "4      06      085  502204  06085502204  5022.04  Census Tract 5022.04  G5020   \n",
       "\n",
       "  FUNCSTAT    ALAND  AWATER     INTPTLAT      INTPTLON  \\\n",
       "0        S  1450237       0  +37.3931319  -121.8651427   \n",
       "1        S  1102136       0  +37.4093719  -121.8788884   \n",
       "2        S  9529865       0  +37.2199936  -121.9979512   \n",
       "3        S  2424447       0  +37.2260144  -121.9763816   \n",
       "4        S   331145       0  +37.3013832  -121.9258424   \n",
       "\n",
       "                                            geometry  \n",
       "0  POLYGON ((-121.87556 37.39924, -121.87535 37.3...  \n",
       "1  POLYGON ((-121.88886 37.40758, -121.88576 37.4...  \n",
       "2  POLYGON ((-122.02489 37.21683, -122.02459 37.2...  \n",
       "3  POLYGON ((-121.99304 37.22562, -121.99249 37.2...  \n",
       "4  POLYGON ((-121.93167 37.29803, -121.92801 37.3...  "
      ]
     },
     "execution_count": 2,
     "metadata": {},
     "output_type": "execute_result"
    }
   ],
   "source": [
    "# Read in the 2021 census tract shapefiles for California\n",
    "\n",
    "census_tracts_gdf = gpd.read_file(\"data/census/census_tracts/tl_2021_06_tract.shp\")\n",
    "\n",
    "print(census_tracts_gdf.shape)\n",
    "census_tracts_gdf.head()"
   ]
  },
  {
   "cell_type": "code",
   "execution_count": 3,
   "id": "346d25f0-cc74-4699-9a47-4c412d6dfeb9",
   "metadata": {},
   "outputs": [
    {
     "name": "stdout",
     "output_type": "stream",
     "text": [
      "(621, 2)\n"
     ]
    },
    {
     "data": {
      "image/png": "[encoded data removed]",
      "text/plain": [
       "<Figure size 432x288 with 1 Axes>"
      ]
     },
     "metadata": {
      "needs_background": "light"
     },
     "output_type": "display_data"
    }
   ],
   "source": [
    "# Filter the data to just Alameda and Contra Costa counties\n",
    "\n",
    "# FIPS codes\n",
    "alameda = \"001\"\n",
    "contra_costa = \"013\"\n",
    "\n",
    "# Filter the data\n",
    "census_tracts_gdf = census_tracts_gdf.loc[census_tracts_gdf[\"COUNTYFP\"].isin([alameda, contra_costa])]\n",
    "\n",
    "# Drop the extraneous columns\n",
    "census_tracts_gdf = census_tracts_gdf[[\"GEOID\", \"geometry\"]]\n",
    "\n",
    "print(census_tracts_gdf.shape)\n",
    "census_tracts_gdf.plot();"
   ]
  },
  {
   "cell_type": "code",
   "execution_count": 4,
   "id": "28075b23-48bb-4dcc-a89d-379af86a498a",
   "metadata": {},
   "outputs": [
    {
     "data": {
      "text/plain": [
       "<Projected CRS: EPSG:2227>\n",
       "Name: NAD83 / California zone 3 (ftUS)\n",
       "Axis Info [cartesian]:\n",
       "- X[east]: Easting (US survey foot)\n",
       "- Y[north]: Northing (US survey foot)\n",
       "Area of Use:\n",
       "- name: United States (USA) - California - counties Alameda; Calaveras; Contra Costa; Madera; Marin; Mariposa; Merced; Mono; San Francisco; San Joaquin; San Mateo; Santa Clara; Santa Cruz; Stanislaus; Tuolumne.\n",
       "- bounds: (-123.02, 36.73, -117.83, 38.71)\n",
       "Coordinate Operation:\n",
       "- name: SPCS83 California zone 3 (US Survey feet)\n",
       "- method: Lambert Conic Conformal (2SP)\n",
       "Datum: North American Datum 1983\n",
       "- Ellipsoid: GRS 1980\n",
       "- Prime Meridian: Greenwich"
      ]
     },
     "execution_count": 4,
     "metadata": {},
     "output_type": "execute_result"
    }
   ],
   "source": [
    "# Reproject the CRS to NAD83 for CA Zone 3\n",
    "\n",
    "census_tracts_gdf.to_crs(2227, inplace=True)\n",
    "census_tracts_gdf.crs"
   ]
  },
  {
   "cell_type": "code",
   "execution_count": 5,
   "id": "7eb80afe-c18c-4979-86ea-380b7592ad86",
   "metadata": {},
   "outputs": [
    {
     "name": "stdout",
     "output_type": "stream",
     "text": [
      "(621, 2)\n"
     ]
    },
    {
     "data": {
      "text/html": [
       "<div>\n",
       "<style scoped>\n",
       "    .dataframe tbody tr th:only-of-type {\n",
       "        vertical-align: middle;\n",
       "    }\n",
       "\n",
       "    .dataframe tbody tr th {\n",
       "        vertical-align: top;\n",
       "    }\n",
       "\n",
       "    .dataframe thead th {\n",
       "        text-align: right;\n",
       "    }\n",
       "</style>\n",
       "<table border=\"1\" class=\"dataframe\">\n",
       "  <thead>\n",
       "    <tr style=\"text-align: right;\">\n",
       "      <th></th>\n",
       "      <th>GEOID</th>\n",
       "      <th>geometry</th>\n",
       "    </tr>\n",
       "  </thead>\n",
       "  <tbody>\n",
       "    <tr>\n",
       "      <th>0</th>\n",
       "      <td>06001428301</td>\n",
       "      <td>POLYGON ((6052475.926 2095914.933, 6052663.072...</td>\n",
       "    </tr>\n",
       "    <tr>\n",
       "      <th>1</th>\n",
       "      <td>06001428302</td>\n",
       "      <td>POLYGON ((6052287.465 2096919.257, 6052335.227...</td>\n",
       "    </tr>\n",
       "    <tr>\n",
       "      <th>2</th>\n",
       "      <td>06001428400</td>\n",
       "      <td>POLYGON ((6050238.370 2096212.064, 6052054.809...</td>\n",
       "    </tr>\n",
       "    <tr>\n",
       "      <th>3</th>\n",
       "      <td>06001430900</td>\n",
       "      <td>POLYGON ((6101137.659 2081426.591, 6101182.977...</td>\n",
       "    </tr>\n",
       "    <tr>\n",
       "      <th>4</th>\n",
       "      <td>06001431000</td>\n",
       "      <td>POLYGON ((6100691.400 2077938.162, 6100718.229...</td>\n",
       "    </tr>\n",
       "  </tbody>\n",
       "</table>\n",
       "</div>"
      ],
      "text/plain": [
       "         GEOID                                           geometry\n",
       "0  06001428301  POLYGON ((6052475.926 2095914.933, 6052663.072...\n",
       "1  06001428302  POLYGON ((6052287.465 2096919.257, 6052335.227...\n",
       "2  06001428400  POLYGON ((6050238.370 2096212.064, 6052054.809...\n",
       "3  06001430900  POLYGON ((6101137.659 2081426.591, 6101182.977...\n",
       "4  06001431000  POLYGON ((6100691.400 2077938.162, 6100718.229..."
      ]
     },
     "execution_count": 5,
     "metadata": {},
     "output_type": "execute_result"
    }
   ],
   "source": [
    "# Add the census data to the accessibility layer\n",
    "\n",
    "access_gdf = census_tracts_gdf.reset_index(drop=True)\n",
    "\n",
    "print(access_gdf.shape)\n",
    "access_gdf.head()"
   ]
  },
  {
   "cell_type": "markdown",
   "id": "9d0a9b67-6d5a-4656-830a-eb8596d71bc8",
   "metadata": {
    "tags": []
   },
   "source": [
    "## Travel Distance Data"
   ]
  },
  {
   "cell_type": "code",
   "execution_count": 6,
   "id": "68096ecf-5941-4bc2-882e-1f20ab1d913c",
   "metadata": {},
   "outputs": [
    {
     "name": "stdout",
     "output_type": "stream",
     "text": [
      "(352324, 2)\n"
     ]
    },
    {
     "data": {
      "text/html": [
       "<div>\n",
       "<style scoped>\n",
       "    .dataframe tbody tr th:only-of-type {\n",
       "        vertical-align: middle;\n",
       "    }\n",
       "\n",
       "    .dataframe tbody tr th {\n",
       "        vertical-align: top;\n",
       "    }\n",
       "\n",
       "    .dataframe thead th {\n",
       "        text-align: right;\n",
       "    }\n",
       "</style>\n",
       "<table border=\"1\" class=\"dataframe\">\n",
       "  <thead>\n",
       "    <tr style=\"text-align: right;\">\n",
       "      <th></th>\n",
       "      <th>distance</th>\n",
       "      <th>geometry</th>\n",
       "    </tr>\n",
       "  </thead>\n",
       "  <tbody>\n",
       "    <tr>\n",
       "      <th>0</th>\n",
       "      <td>21.712999</td>\n",
       "      <td>POINT (-122.26857 37.87031)</td>\n",
       "    </tr>\n",
       "    <tr>\n",
       "      <th>1</th>\n",
       "      <td>19.080000</td>\n",
       "      <td>POINT (-122.27517 37.87141)</td>\n",
       "    </tr>\n",
       "    <tr>\n",
       "      <th>2</th>\n",
       "      <td>17.580000</td>\n",
       "      <td>POINT (-122.28028 37.87074)</td>\n",
       "    </tr>\n",
       "    <tr>\n",
       "      <th>3</th>\n",
       "      <td>17.983999</td>\n",
       "      <td>POINT (-122.28208 37.87007)</td>\n",
       "    </tr>\n",
       "    <tr>\n",
       "      <th>4</th>\n",
       "      <td>22.021000</td>\n",
       "      <td>POINT (-122.28180 37.86710)</td>\n",
       "    </tr>\n",
       "  </tbody>\n",
       "</table>\n",
       "</div>"
      ],
      "text/plain": [
       "    distance                     geometry\n",
       "0  21.712999  POINT (-122.26857 37.87031)\n",
       "1  19.080000  POINT (-122.27517 37.87141)\n",
       "2  17.580000  POINT (-122.28028 37.87074)\n",
       "3  17.983999  POINT (-122.28208 37.87007)\n",
       "4  22.021000  POINT (-122.28180 37.86710)"
      ]
     },
     "execution_count": 6,
     "metadata": {},
     "output_type": "execute_result"
    }
   ],
   "source": [
    "# Read in the travel distance data\n",
    "\n",
    "travel_distance_gdf = gpd.read_file(\"data/transit/distances.geojson\")\n",
    "\n",
    "print(travel_distance_gdf.shape)\n",
    "travel_distance_gdf.head()"
   ]
  },
  {
   "cell_type": "code",
   "execution_count": 7,
   "id": "064b0c9a-c2d7-4040-a454-cd718395ec85",
   "metadata": {},
   "outputs": [
    {
     "data": {
      "text/plain": [
       "<Projected CRS: EPSG:2227>\n",
       "Name: NAD83 / California zone 3 (ftUS)\n",
       "Axis Info [cartesian]:\n",
       "- X[east]: Easting (US survey foot)\n",
       "- Y[north]: Northing (US survey foot)\n",
       "Area of Use:\n",
       "- name: United States (USA) - California - counties Alameda; Calaveras; Contra Costa; Madera; Marin; Mariposa; Merced; Mono; San Francisco; San Joaquin; San Mateo; Santa Clara; Santa Cruz; Stanislaus; Tuolumne.\n",
       "- bounds: (-123.02, 36.73, -117.83, 38.71)\n",
       "Coordinate Operation:\n",
       "- name: SPCS83 California zone 3 (US Survey feet)\n",
       "- method: Lambert Conic Conformal (2SP)\n",
       "Datum: North American Datum 1983\n",
       "- Ellipsoid: GRS 1980\n",
       "- Prime Meridian: Greenwich"
      ]
     },
     "execution_count": 7,
     "metadata": {},
     "output_type": "execute_result"
    }
   ],
   "source": [
    "# Reproject the CRS to NAD83 for CA Zone 3\n",
    "\n",
    "travel_distance_gdf.to_crs(2227, inplace=True)\n",
    "travel_distance_gdf.crs"
   ]
  },
  {
   "cell_type": "code",
   "execution_count": 8,
   "id": "50f79f9c-61fe-48ff-a1d5-6261108d7ef7",
   "metadata": {},
   "outputs": [
    {
     "name": "stdout",
     "output_type": "stream",
     "text": [
      "(352324, 3)\n"
     ]
    },
    {
     "data": {
      "text/html": [
       "<div>\n",
       "<style scoped>\n",
       "    .dataframe tbody tr th:only-of-type {\n",
       "        vertical-align: middle;\n",
       "    }\n",
       "\n",
       "    .dataframe tbody tr th {\n",
       "        vertical-align: top;\n",
       "    }\n",
       "\n",
       "    .dataframe thead th {\n",
       "        text-align: right;\n",
       "    }\n",
       "</style>\n",
       "<table border=\"1\" class=\"dataframe\">\n",
       "  <thead>\n",
       "    <tr style=\"text-align: right;\">\n",
       "      <th></th>\n",
       "      <th>distance</th>\n",
       "      <th>geometry</th>\n",
       "      <th>GEOID</th>\n",
       "    </tr>\n",
       "  </thead>\n",
       "  <tbody>\n",
       "    <tr>\n",
       "      <th>0</th>\n",
       "      <td>21.712999</td>\n",
       "      <td>POINT (6051198.432 2144185.418)</td>\n",
       "      <td>06001422902</td>\n",
       "    </tr>\n",
       "    <tr>\n",
       "      <th>1</th>\n",
       "      <td>19.080000</td>\n",
       "      <td>POINT (6049300.123 2144621.974)</td>\n",
       "      <td>06001422300</td>\n",
       "    </tr>\n",
       "    <tr>\n",
       "      <th>2</th>\n",
       "      <td>17.580000</td>\n",
       "      <td>POINT (6047822.809 2144407.122)</td>\n",
       "      <td>06001422300</td>\n",
       "    </tr>\n",
       "    <tr>\n",
       "      <th>3</th>\n",
       "      <td>17.983999</td>\n",
       "      <td>POINT (6047297.805 2144172.013)</td>\n",
       "      <td>06001423100</td>\n",
       "    </tr>\n",
       "    <tr>\n",
       "      <th>4</th>\n",
       "      <td>22.021000</td>\n",
       "      <td>POINT (6047357.738 2143089.217)</td>\n",
       "      <td>06001423100</td>\n",
       "    </tr>\n",
       "  </tbody>\n",
       "</table>\n",
       "</div>"
      ],
      "text/plain": [
       "    distance                         geometry        GEOID\n",
       "0  21.712999  POINT (6051198.432 2144185.418)  06001422902\n",
       "1  19.080000  POINT (6049300.123 2144621.974)  06001422300\n",
       "2  17.580000  POINT (6047822.809 2144407.122)  06001422300\n",
       "3  17.983999  POINT (6047297.805 2144172.013)  06001423100\n",
       "4  22.021000  POINT (6047357.738 2143089.217)  06001423100"
      ]
     },
     "execution_count": 8,
     "metadata": {},
     "output_type": "execute_result"
    }
   ],
   "source": [
    "# Get the census tract geoid for each node in the travel network\n",
    "\n",
    "travel_distance_gdf = gpd.sjoin(left_df = travel_distance_gdf,\n",
    "                                right_df = census_tracts_gdf,\n",
    "                                how = \"left\"\n",
    "                               ).drop(columns=[\"index_right\"])\n",
    "\n",
    "print(travel_distance_gdf.shape)\n",
    "travel_distance_gdf.head()"
   ]
  },
  {
   "cell_type": "code",
   "execution_count": 9,
   "id": "6c9ba2b3-708d-41b8-9cf4-7ff1c1030abd",
   "metadata": {},
   "outputs": [
    {
     "name": "stdout",
     "output_type": "stream",
     "text": [
      "(619, 2)\n"
     ]
    },
    {
     "data": {
      "text/html": [
       "<div>\n",
       "<style scoped>\n",
       "    .dataframe tbody tr th:only-of-type {\n",
       "        vertical-align: middle;\n",
       "    }\n",
       "\n",
       "    .dataframe tbody tr th {\n",
       "        vertical-align: top;\n",
       "    }\n",
       "\n",
       "    .dataframe thead th {\n",
       "        text-align: right;\n",
       "    }\n",
       "</style>\n",
       "<table border=\"1\" class=\"dataframe\">\n",
       "  <thead>\n",
       "    <tr style=\"text-align: right;\">\n",
       "      <th></th>\n",
       "      <th>GEOID</th>\n",
       "      <th>Avg_Distance</th>\n",
       "    </tr>\n",
       "  </thead>\n",
       "  <tbody>\n",
       "    <tr>\n",
       "      <th>0</th>\n",
       "      <td>06001400100</td>\n",
       "      <td>14.0</td>\n",
       "    </tr>\n",
       "    <tr>\n",
       "      <th>1</th>\n",
       "      <td>06001400200</td>\n",
       "      <td>22.0</td>\n",
       "    </tr>\n",
       "    <tr>\n",
       "      <th>2</th>\n",
       "      <td>06001400300</td>\n",
       "      <td>31.0</td>\n",
       "    </tr>\n",
       "    <tr>\n",
       "      <th>3</th>\n",
       "      <td>06001400400</td>\n",
       "      <td>29.0</td>\n",
       "    </tr>\n",
       "    <tr>\n",
       "      <th>4</th>\n",
       "      <td>06001400500</td>\n",
       "      <td>35.0</td>\n",
       "    </tr>\n",
       "  </tbody>\n",
       "</table>\n",
       "</div>"
      ],
      "text/plain": [
       "         GEOID  Avg_Distance\n",
       "0  06001400100          14.0\n",
       "1  06001400200          22.0\n",
       "2  06001400300          31.0\n",
       "3  06001400400          29.0\n",
       "4  06001400500          35.0"
      ]
     },
     "execution_count": 9,
     "metadata": {},
     "output_type": "execute_result"
    }
   ],
   "source": [
    "# Average the travel distance per census tract\n",
    "\n",
    "travel_distance_df = travel_distance_gdf.dissolve(by = \"GEOID\",\n",
    "                                                  aggfunc = \"mean\",\n",
    "                                                  as_index = False\n",
    "                                                 ).rename(columns={\"distance\": \"Avg_Distance\"})\n",
    "\n",
    "# Round the avg distance to the nearest whole minute\n",
    "travel_distance_df[\"Avg_Distance\"] = round(travel_distance_df[\"Avg_Distance\"])\n",
    "\n",
    "# Drop the aggregated point geometry\n",
    "travel_distance_df.drop(columns=[\"geometry\"], inplace=True)\n",
    "\n",
    "print(travel_distance_df.shape)\n",
    "travel_distance_df.head()"
   ]
  },
  {
   "cell_type": "code",
   "execution_count": 10,
   "id": "53bc7710-f1b6-4ada-9437-476246b49d8a",
   "metadata": {},
   "outputs": [
    {
     "name": "stdout",
     "output_type": "stream",
     "text": [
      "(621, 3)\n"
     ]
    },
    {
     "data": {
      "text/html": [
       "<div>\n",
       "<style scoped>\n",
       "    .dataframe tbody tr th:only-of-type {\n",
       "        vertical-align: middle;\n",
       "    }\n",
       "\n",
       "    .dataframe tbody tr th {\n",
       "        vertical-align: top;\n",
       "    }\n",
       "\n",
       "    .dataframe thead th {\n",
       "        text-align: right;\n",
       "    }\n",
       "</style>\n",
       "<table border=\"1\" class=\"dataframe\">\n",
       "  <thead>\n",
       "    <tr style=\"text-align: right;\">\n",
       "      <th></th>\n",
       "      <th>GEOID</th>\n",
       "      <th>geometry</th>\n",
       "      <th>Avg_Distance</th>\n",
       "    </tr>\n",
       "  </thead>\n",
       "  <tbody>\n",
       "    <tr>\n",
       "      <th>0</th>\n",
       "      <td>06001428301</td>\n",
       "      <td>POLYGON ((6052475.926 2095914.933, 6052663.072...</td>\n",
       "      <td>38.0</td>\n",
       "    </tr>\n",
       "    <tr>\n",
       "      <th>1</th>\n",
       "      <td>06001428302</td>\n",
       "      <td>POLYGON ((6052287.465 2096919.257, 6052335.227...</td>\n",
       "      <td>31.0</td>\n",
       "    </tr>\n",
       "    <tr>\n",
       "      <th>2</th>\n",
       "      <td>06001428400</td>\n",
       "      <td>POLYGON ((6050238.370 2096212.064, 6052054.809...</td>\n",
       "      <td>6.0</td>\n",
       "    </tr>\n",
       "    <tr>\n",
       "      <th>3</th>\n",
       "      <td>06001430900</td>\n",
       "      <td>POLYGON ((6101137.659 2081426.591, 6101182.977...</td>\n",
       "      <td>30.0</td>\n",
       "    </tr>\n",
       "    <tr>\n",
       "      <th>4</th>\n",
       "      <td>06001431000</td>\n",
       "      <td>POLYGON ((6100691.400 2077938.162, 6100718.229...</td>\n",
       "      <td>33.0</td>\n",
       "    </tr>\n",
       "  </tbody>\n",
       "</table>\n",
       "</div>"
      ],
      "text/plain": [
       "         GEOID                                           geometry  \\\n",
       "0  06001428301  POLYGON ((6052475.926 2095914.933, 6052663.072...   \n",
       "1  06001428302  POLYGON ((6052287.465 2096919.257, 6052335.227...   \n",
       "2  06001428400  POLYGON ((6050238.370 2096212.064, 6052054.809...   \n",
       "3  06001430900  POLYGON ((6101137.659 2081426.591, 6101182.977...   \n",
       "4  06001431000  POLYGON ((6100691.400 2077938.162, 6100718.229...   \n",
       "\n",
       "   Avg_Distance  \n",
       "0          38.0  \n",
       "1          31.0  \n",
       "2           6.0  \n",
       "3          30.0  \n",
       "4          33.0  "
      ]
     },
     "execution_count": 10,
     "metadata": {},
     "output_type": "execute_result"
    }
   ],
   "source": [
    "# Merge the travel distance data into the accessibility layer\n",
    "\n",
    "access_gdf = access_gdf.merge(travel_distance_df, on=\"GEOID\", how='left')\n",
    "\n",
    "print(access_gdf.shape)\n",
    "access_gdf.head()"
   ]
  },
  {
   "cell_type": "code",
   "execution_count": 11,
   "id": "f7383ea6-c209-4629-94f3-153e3d827897",
   "metadata": {},
   "outputs": [
    {
     "data": {
      "text/html": [
       "<div>\n",
       "<style scoped>\n",
       "    .dataframe tbody tr th:only-of-type {\n",
       "        vertical-align: middle;\n",
       "    }\n",
       "\n",
       "    .dataframe tbody tr th {\n",
       "        vertical-align: top;\n",
       "    }\n",
       "\n",
       "    .dataframe thead th {\n",
       "        text-align: right;\n",
       "    }\n",
       "</style>\n",
       "<table border=\"1\" class=\"dataframe\">\n",
       "  <thead>\n",
       "    <tr style=\"text-align: right;\">\n",
       "      <th></th>\n",
       "      <th>GEOID</th>\n",
       "      <th>geometry</th>\n",
       "      <th>Avg_Distance</th>\n",
       "    </tr>\n",
       "  </thead>\n",
       "  <tbody>\n",
       "    <tr>\n",
       "      <th>352</th>\n",
       "      <td>06001990000</td>\n",
       "      <td>MULTIPOLYGON (((6097920.819 2006623.752, 61001...</td>\n",
       "      <td>NaN</td>\n",
       "    </tr>\n",
       "    <tr>\n",
       "      <th>611</th>\n",
       "      <td>06013990000</td>\n",
       "      <td>POLYGON ((6002038.628 2182337.660, 6002050.209...</td>\n",
       "      <td>NaN</td>\n",
       "    </tr>\n",
       "  </tbody>\n",
       "</table>\n",
       "</div>"
      ],
      "text/plain": [
       "           GEOID                                           geometry  \\\n",
       "352  06001990000  MULTIPOLYGON (((6097920.819 2006623.752, 61001...   \n",
       "611  06013990000  POLYGON ((6002038.628 2182337.660, 6002050.209...   \n",
       "\n",
       "     Avg_Distance  \n",
       "352           NaN  \n",
       "611           NaN  "
      ]
     },
     "metadata": {},
     "output_type": "display_data"
    },
    {
     "data": {
      "image/png": "[encoded data removed]",
      "text/plain": [
       "<Figure size 432x288 with 1 Axes>"
      ]
     },
     "metadata": {
      "needs_background": "light"
     },
     "output_type": "display_data"
    }
   ],
   "source": [
    "# Check for tracts with missing values\n",
    "\n",
    "missing_tracts = access_gdf.loc[access_gdf[\"Avg_Distance\"].isna()]\n",
    "display(missing_tracts)\n",
    "missing_tracts.plot();"
   ]
  },
  {
   "cell_type": "markdown",
   "id": "d304562d-dbd5-4bdc-8773-adb926e3ceca",
   "metadata": {
    "tags": []
   },
   "source": [
    "## Vehicle Availability Layer"
   ]
  },
  {
   "cell_type": "code",
   "execution_count": 12,
   "id": "c0b247ac-8ab3-4afe-8057-d2b205e5e793",
   "metadata": {},
   "outputs": [
    {
     "name": "stdout",
     "output_type": "stream",
     "text": [
      "(569, 3)\n"
     ]
    },
    {
     "data": {
      "text/html": [
       "<div>\n",
       "<style scoped>\n",
       "    .dataframe tbody tr th:only-of-type {\n",
       "        vertical-align: middle;\n",
       "    }\n",
       "\n",
       "    .dataframe tbody tr th {\n",
       "        vertical-align: top;\n",
       "    }\n",
       "\n",
       "    .dataframe thead th {\n",
       "        text-align: right;\n",
       "    }\n",
       "</style>\n",
       "<table border=\"1\" class=\"dataframe\">\n",
       "  <thead>\n",
       "    <tr style=\"text-align: right;\">\n",
       "      <th></th>\n",
       "      <th>GEOID</th>\n",
       "      <th>Total_Households</th>\n",
       "      <th>No_Vehicle_Available</th>\n",
       "    </tr>\n",
       "  </thead>\n",
       "  <tbody>\n",
       "    <tr>\n",
       "      <th>0</th>\n",
       "      <td>1400000US06001400100</td>\n",
       "      <td>1293</td>\n",
       "      <td>32</td>\n",
       "    </tr>\n",
       "    <tr>\n",
       "      <th>1</th>\n",
       "      <td>1400000US06001400200</td>\n",
       "      <td>847</td>\n",
       "      <td>39</td>\n",
       "    </tr>\n",
       "    <tr>\n",
       "      <th>2</th>\n",
       "      <td>1400000US06001400300</td>\n",
       "      <td>2441</td>\n",
       "      <td>371</td>\n",
       "    </tr>\n",
       "    <tr>\n",
       "      <th>3</th>\n",
       "      <td>1400000US06001400400</td>\n",
       "      <td>1802</td>\n",
       "      <td>170</td>\n",
       "    </tr>\n",
       "    <tr>\n",
       "      <th>4</th>\n",
       "      <td>1400000US06001400500</td>\n",
       "      <td>1606</td>\n",
       "      <td>186</td>\n",
       "    </tr>\n",
       "  </tbody>\n",
       "</table>\n",
       "</div>"
      ],
      "text/plain": [
       "                  GEOID  Total_Households  No_Vehicle_Available\n",
       "0  1400000US06001400100              1293                    32\n",
       "1  1400000US06001400200               847                    39\n",
       "2  1400000US06001400300              2441                   371\n",
       "3  1400000US06001400400              1802                   170\n",
       "4  1400000US06001400500              1606                   186"
      ]
     },
     "execution_count": 12,
     "metadata": {},
     "output_type": "execute_result"
    }
   ],
   "source": [
    "# Read in the vehicle availability data\n",
    "\n",
    "vehicle_df = pd.read_csv(\"data/census/vehicle/vehicle_availability.csv\")\n",
    "\n",
    "print(vehicle_df.shape)\n",
    "vehicle_df.head()"
   ]
  },
  {
   "cell_type": "code",
   "execution_count": 13,
   "id": "3d5cc4e3-2eab-4b34-9197-a50282e992ad",
   "metadata": {},
   "outputs": [
    {
     "data": {
      "text/html": [
       "<div>\n",
       "<style scoped>\n",
       "    .dataframe tbody tr th:only-of-type {\n",
       "        vertical-align: middle;\n",
       "    }\n",
       "\n",
       "    .dataframe tbody tr th {\n",
       "        vertical-align: top;\n",
       "    }\n",
       "\n",
       "    .dataframe thead th {\n",
       "        text-align: right;\n",
       "    }\n",
       "</style>\n",
       "<table border=\"1\" class=\"dataframe\">\n",
       "  <thead>\n",
       "    <tr style=\"text-align: right;\">\n",
       "      <th></th>\n",
       "      <th>GEOID</th>\n",
       "      <th>Total_Households</th>\n",
       "      <th>No_Vehicle_Available</th>\n",
       "      <th>Pct_Without_Vehicle</th>\n",
       "    </tr>\n",
       "  </thead>\n",
       "  <tbody>\n",
       "    <tr>\n",
       "      <th>0</th>\n",
       "      <td>1400000US06001400100</td>\n",
       "      <td>1293</td>\n",
       "      <td>32</td>\n",
       "      <td>2.5</td>\n",
       "    </tr>\n",
       "    <tr>\n",
       "      <th>1</th>\n",
       "      <td>1400000US06001400200</td>\n",
       "      <td>847</td>\n",
       "      <td>39</td>\n",
       "      <td>4.6</td>\n",
       "    </tr>\n",
       "    <tr>\n",
       "      <th>2</th>\n",
       "      <td>1400000US06001400300</td>\n",
       "      <td>2441</td>\n",
       "      <td>371</td>\n",
       "      <td>15.2</td>\n",
       "    </tr>\n",
       "    <tr>\n",
       "      <th>3</th>\n",
       "      <td>1400000US06001400400</td>\n",
       "      <td>1802</td>\n",
       "      <td>170</td>\n",
       "      <td>9.4</td>\n",
       "    </tr>\n",
       "    <tr>\n",
       "      <th>4</th>\n",
       "      <td>1400000US06001400500</td>\n",
       "      <td>1606</td>\n",
       "      <td>186</td>\n",
       "      <td>11.6</td>\n",
       "    </tr>\n",
       "  </tbody>\n",
       "</table>\n",
       "</div>"
      ],
      "text/plain": [
       "                  GEOID  Total_Households  No_Vehicle_Available  \\\n",
       "0  1400000US06001400100              1293                    32   \n",
       "1  1400000US06001400200               847                    39   \n",
       "2  1400000US06001400300              2441                   371   \n",
       "3  1400000US06001400400              1802                   170   \n",
       "4  1400000US06001400500              1606                   186   \n",
       "\n",
       "   Pct_Without_Vehicle  \n",
       "0                  2.5  \n",
       "1                  4.6  \n",
       "2                 15.2  \n",
       "3                  9.4  \n",
       "4                 11.6  "
      ]
     },
     "execution_count": 13,
     "metadata": {},
     "output_type": "execute_result"
    }
   ],
   "source": [
    "# Calculate the percentage of households per census tract with no vehicles available\n",
    "\n",
    "vehicle_df[\"Pct_Without_Vehicle\"] = round((vehicle_df[\"No_Vehicle_Available\"] / vehicle_df[\"Total_Households\"])*100,1)\n",
    "\n",
    "vehicle_df.head()"
   ]
  },
  {
   "cell_type": "code",
   "execution_count": 14,
   "id": "0ff980bd-5de9-4074-9401-7e26193040f2",
   "metadata": {},
   "outputs": [
    {
     "data": {
      "text/html": [
       "<div>\n",
       "<style scoped>\n",
       "    .dataframe tbody tr th:only-of-type {\n",
       "        vertical-align: middle;\n",
       "    }\n",
       "\n",
       "    .dataframe tbody tr th {\n",
       "        vertical-align: top;\n",
       "    }\n",
       "\n",
       "    .dataframe thead th {\n",
       "        text-align: right;\n",
       "    }\n",
       "</style>\n",
       "<table border=\"1\" class=\"dataframe\">\n",
       "  <thead>\n",
       "    <tr style=\"text-align: right;\">\n",
       "      <th></th>\n",
       "      <th>GEOID</th>\n",
       "      <th>Total_Households</th>\n",
       "      <th>No_Vehicle_Available</th>\n",
       "      <th>Pct_Without_Vehicle</th>\n",
       "    </tr>\n",
       "  </thead>\n",
       "  <tbody>\n",
       "    <tr>\n",
       "      <th>360</th>\n",
       "      <td>1400000US06001990000</td>\n",
       "      <td>0</td>\n",
       "      <td>0</td>\n",
       "      <td>NaN</td>\n",
       "    </tr>\n",
       "    <tr>\n",
       "      <th>568</th>\n",
       "      <td>1400000US06013990000</td>\n",
       "      <td>0</td>\n",
       "      <td>0</td>\n",
       "      <td>NaN</td>\n",
       "    </tr>\n",
       "  </tbody>\n",
       "</table>\n",
       "</div>"
      ],
      "text/plain": [
       "                    GEOID  Total_Households  No_Vehicle_Available  \\\n",
       "360  1400000US06001990000                 0                     0   \n",
       "568  1400000US06013990000                 0                     0   \n",
       "\n",
       "     Pct_Without_Vehicle  \n",
       "360                  NaN  \n",
       "568                  NaN  "
      ]
     },
     "execution_count": 14,
     "metadata": {},
     "output_type": "execute_result"
    }
   ],
   "source": [
    "# Check the null values\n",
    "\n",
    "vehicle_df[vehicle_df[\"Pct_Without_Vehicle\"].isna()]"
   ]
  },
  {
   "cell_type": "code",
   "execution_count": 15,
   "id": "bdd13330-5b97-4f4e-b579-0a6517e67caa",
   "metadata": {},
   "outputs": [
    {
     "data": {
      "text/plain": [
       "GEOID                   0\n",
       "Total_Households        0\n",
       "No_Vehicle_Available    0\n",
       "Pct_Without_Vehicle     0\n",
       "dtype: int64"
      ]
     },
     "execution_count": 15,
     "metadata": {},
     "output_type": "execute_result"
    }
   ],
   "source": [
    "# Fill the null values\n",
    "\n",
    "vehicle_df[\"Pct_Without_Vehicle\"].fillna(value=0, inplace=True)\n",
    "\n",
    "# Check again for nulls\n",
    "vehicle_df.isna().sum()"
   ]
  },
  {
   "cell_type": "code",
   "execution_count": 16,
   "id": "24ea4a6e-5abc-4164-a01f-0a613a94e837",
   "metadata": {},
   "outputs": [
    {
     "data": {
      "text/html": [
       "<div>\n",
       "<style scoped>\n",
       "    .dataframe tbody tr th:only-of-type {\n",
       "        vertical-align: middle;\n",
       "    }\n",
       "\n",
       "    .dataframe tbody tr th {\n",
       "        vertical-align: top;\n",
       "    }\n",
       "\n",
       "    .dataframe thead th {\n",
       "        text-align: right;\n",
       "    }\n",
       "</style>\n",
       "<table border=\"1\" class=\"dataframe\">\n",
       "  <thead>\n",
       "    <tr style=\"text-align: right;\">\n",
       "      <th></th>\n",
       "      <th>GEOID</th>\n",
       "      <th>Total_Households</th>\n",
       "      <th>No_Vehicle_Available</th>\n",
       "      <th>Pct_Without_Vehicle</th>\n",
       "    </tr>\n",
       "  </thead>\n",
       "  <tbody>\n",
       "    <tr>\n",
       "      <th>0</th>\n",
       "      <td>06001400100</td>\n",
       "      <td>1293</td>\n",
       "      <td>32</td>\n",
       "      <td>2.5</td>\n",
       "    </tr>\n",
       "    <tr>\n",
       "      <th>1</th>\n",
       "      <td>06001400200</td>\n",
       "      <td>847</td>\n",
       "      <td>39</td>\n",
       "      <td>4.6</td>\n",
       "    </tr>\n",
       "    <tr>\n",
       "      <th>2</th>\n",
       "      <td>06001400300</td>\n",
       "      <td>2441</td>\n",
       "      <td>371</td>\n",
       "      <td>15.2</td>\n",
       "    </tr>\n",
       "    <tr>\n",
       "      <th>3</th>\n",
       "      <td>06001400400</td>\n",
       "      <td>1802</td>\n",
       "      <td>170</td>\n",
       "      <td>9.4</td>\n",
       "    </tr>\n",
       "    <tr>\n",
       "      <th>4</th>\n",
       "      <td>06001400500</td>\n",
       "      <td>1606</td>\n",
       "      <td>186</td>\n",
       "      <td>11.6</td>\n",
       "    </tr>\n",
       "  </tbody>\n",
       "</table>\n",
       "</div>"
      ],
      "text/plain": [
       "         GEOID  Total_Households  No_Vehicle_Available  Pct_Without_Vehicle\n",
       "0  06001400100              1293                    32                  2.5\n",
       "1  06001400200               847                    39                  4.6\n",
       "2  06001400300              2441                   371                 15.2\n",
       "3  06001400400              1802                   170                  9.4\n",
       "4  06001400500              1606                   186                 11.6"
      ]
     },
     "execution_count": 16,
     "metadata": {},
     "output_type": "execute_result"
    }
   ],
   "source": [
    "# Trim the GEOID\n",
    "\n",
    "vehicle_df[\"GEOID\"] = vehicle_df[\"GEOID\"].apply(lambda x: x[9:])\n",
    "\n",
    "vehicle_df.head()"
   ]
  },
  {
   "cell_type": "code",
   "execution_count": 17,
   "id": "b4e45635-0848-472f-a580-2f0315900bac",
   "metadata": {},
   "outputs": [
    {
     "name": "stdout",
     "output_type": "stream",
     "text": [
      "(621, 6)\n"
     ]
    },
    {
     "data": {
      "text/html": [
       "<div>\n",
       "<style scoped>\n",
       "    .dataframe tbody tr th:only-of-type {\n",
       "        vertical-align: middle;\n",
       "    }\n",
       "\n",
       "    .dataframe tbody tr th {\n",
       "        vertical-align: top;\n",
       "    }\n",
       "\n",
       "    .dataframe thead th {\n",
       "        text-align: right;\n",
       "    }\n",
       "</style>\n",
       "<table border=\"1\" class=\"dataframe\">\n",
       "  <thead>\n",
       "    <tr style=\"text-align: right;\">\n",
       "      <th></th>\n",
       "      <th>GEOID</th>\n",
       "      <th>geometry</th>\n",
       "      <th>Avg_Distance</th>\n",
       "      <th>Total_Households</th>\n",
       "      <th>No_Vehicle_Available</th>\n",
       "      <th>Pct_Without_Vehicle</th>\n",
       "    </tr>\n",
       "  </thead>\n",
       "  <tbody>\n",
       "    <tr>\n",
       "      <th>0</th>\n",
       "      <td>06001428301</td>\n",
       "      <td>POLYGON ((6052475.926 2095914.933, 6052663.072...</td>\n",
       "      <td>38.0</td>\n",
       "      <td>2492.0</td>\n",
       "      <td>19.0</td>\n",
       "      <td>0.8</td>\n",
       "    </tr>\n",
       "    <tr>\n",
       "      <th>1</th>\n",
       "      <td>06001428302</td>\n",
       "      <td>POLYGON ((6052287.465 2096919.257, 6052335.227...</td>\n",
       "      <td>31.0</td>\n",
       "      <td>2474.0</td>\n",
       "      <td>134.0</td>\n",
       "      <td>5.4</td>\n",
       "    </tr>\n",
       "    <tr>\n",
       "      <th>2</th>\n",
       "      <td>06001428400</td>\n",
       "      <td>POLYGON ((6050238.370 2096212.064, 6052054.809...</td>\n",
       "      <td>6.0</td>\n",
       "      <td>1873.0</td>\n",
       "      <td>76.0</td>\n",
       "      <td>4.1</td>\n",
       "    </tr>\n",
       "    <tr>\n",
       "      <th>3</th>\n",
       "      <td>06001430900</td>\n",
       "      <td>POLYGON ((6101137.659 2081426.591, 6101182.977...</td>\n",
       "      <td>30.0</td>\n",
       "      <td>1864.0</td>\n",
       "      <td>90.0</td>\n",
       "      <td>4.8</td>\n",
       "    </tr>\n",
       "    <tr>\n",
       "      <th>4</th>\n",
       "      <td>06001431000</td>\n",
       "      <td>POLYGON ((6100691.400 2077938.162, 6100718.229...</td>\n",
       "      <td>33.0</td>\n",
       "      <td>1087.0</td>\n",
       "      <td>90.0</td>\n",
       "      <td>8.3</td>\n",
       "    </tr>\n",
       "  </tbody>\n",
       "</table>\n",
       "</div>"
      ],
      "text/plain": [
       "         GEOID                                           geometry  \\\n",
       "0  06001428301  POLYGON ((6052475.926 2095914.933, 6052663.072...   \n",
       "1  06001428302  POLYGON ((6052287.465 2096919.257, 6052335.227...   \n",
       "2  06001428400  POLYGON ((6050238.370 2096212.064, 6052054.809...   \n",
       "3  06001430900  POLYGON ((6101137.659 2081426.591, 6101182.977...   \n",
       "4  06001431000  POLYGON ((6100691.400 2077938.162, 6100718.229...   \n",
       "\n",
       "   Avg_Distance  Total_Households  No_Vehicle_Available  Pct_Without_Vehicle  \n",
       "0          38.0            2492.0                  19.0                  0.8  \n",
       "1          31.0            2474.0                 134.0                  5.4  \n",
       "2           6.0            1873.0                  76.0                  4.1  \n",
       "3          30.0            1864.0                  90.0                  4.8  \n",
       "4          33.0            1087.0                  90.0                  8.3  "
      ]
     },
     "execution_count": 17,
     "metadata": {},
     "output_type": "execute_result"
    }
   ],
   "source": [
    "# Merge the vehicle availability data into the accessibility layer\n",
    "\n",
    "access_gdf = access_gdf.merge(vehicle_df, on=\"GEOID\", how='left')\n",
    "\n",
    "print(access_gdf.shape)\n",
    "access_gdf.head()"
   ]
  },
  {
   "cell_type": "code",
   "execution_count": 18,
   "id": "07200f5a-34a7-4a2d-962a-745bf8a8a665",
   "metadata": {},
   "outputs": [
    {
     "name": "stdout",
     "output_type": "stream",
     "text": [
      "(102, 6)\n"
     ]
    },
    {
     "data": {
      "image/png": "[encoded data removed]",
      "text/plain": [
       "<Figure size 432x288 with 1 Axes>"
      ]
     },
     "metadata": {
      "needs_background": "light"
     },
     "output_type": "display_data"
    }
   ],
   "source": [
    "# Check for tracts with missing values\n",
    "\n",
    "missing_tracts = access_gdf.loc[access_gdf[\"Pct_Without_Vehicle\"].isna()]\n",
    "print(missing_tracts.shape)\n",
    "missing_tracts.plot();"
   ]
  },
  {
   "cell_type": "markdown",
   "id": "d2202360-1f45-44c4-b228-e9af0ae81289",
   "metadata": {
    "tags": []
   },
   "source": [
    "## Need Level Layer\n",
    "This layer categorizes census tracts into three levels of need for greater access to regional parks via transit: low (within 30 mins), medium (outside 30 mins, above average vehicle availability), and high (outside 30 mins, below average vehicle availability). Note: Average vehicle availability is 8%."
   ]
  },
  {
   "cell_type": "code",
   "execution_count": 19,
   "id": "106cccdc-1dcf-4fa5-8a26-1b0d7f54f16d",
   "metadata": {},
   "outputs": [],
   "source": [
    "# Define the conditions and values of the new variable\n",
    "\n",
    "condition_list = [\n",
    "    (access_gdf[\"Avg_Distance\"] <= 30),\n",
    "    (access_gdf[\"Avg_Distance\"] > 30) & (access_gdf[\"Pct_Without_Vehicle\"] <= 8),\n",
    "    (access_gdf[\"Avg_Distance\"] > 30) & (access_gdf[\"Pct_Without_Vehicle\"] > 8)\n",
    "]\n",
    "\n",
    "choice_list = [1, 2, 3]"
   ]
  },
  {
   "cell_type": "code",
   "execution_count": 20,
   "id": "f3857c83-d8e2-41f9-86fe-6139f781512e",
   "metadata": {},
   "outputs": [
    {
     "name": "stdout",
     "output_type": "stream",
     "text": [
      "(621, 7)\n"
     ]
    },
    {
     "data": {
      "text/html": [
       "<div>\n",
       "<style scoped>\n",
       "    .dataframe tbody tr th:only-of-type {\n",
       "        vertical-align: middle;\n",
       "    }\n",
       "\n",
       "    .dataframe tbody tr th {\n",
       "        vertical-align: top;\n",
       "    }\n",
       "\n",
       "    .dataframe thead th {\n",
       "        text-align: right;\n",
       "    }\n",
       "</style>\n",
       "<table border=\"1\" class=\"dataframe\">\n",
       "  <thead>\n",
       "    <tr style=\"text-align: right;\">\n",
       "      <th></th>\n",
       "      <th>GEOID</th>\n",
       "      <th>geometry</th>\n",
       "      <th>Avg_Distance</th>\n",
       "      <th>Total_Households</th>\n",
       "      <th>No_Vehicle_Available</th>\n",
       "      <th>Pct_Without_Vehicle</th>\n",
       "      <th>Need_Level</th>\n",
       "    </tr>\n",
       "  </thead>\n",
       "  <tbody>\n",
       "    <tr>\n",
       "      <th>0</th>\n",
       "      <td>06001428301</td>\n",
       "      <td>POLYGON ((6052475.926 2095914.933, 6052663.072...</td>\n",
       "      <td>38.0</td>\n",
       "      <td>2492.0</td>\n",
       "      <td>19.0</td>\n",
       "      <td>0.8</td>\n",
       "      <td>2.0</td>\n",
       "    </tr>\n",
       "    <tr>\n",
       "      <th>1</th>\n",
       "      <td>06001428302</td>\n",
       "      <td>POLYGON ((6052287.465 2096919.257, 6052335.227...</td>\n",
       "      <td>31.0</td>\n",
       "      <td>2474.0</td>\n",
       "      <td>134.0</td>\n",
       "      <td>5.4</td>\n",
       "      <td>2.0</td>\n",
       "    </tr>\n",
       "    <tr>\n",
       "      <th>2</th>\n",
       "      <td>06001428400</td>\n",
       "      <td>POLYGON ((6050238.370 2096212.064, 6052054.809...</td>\n",
       "      <td>6.0</td>\n",
       "      <td>1873.0</td>\n",
       "      <td>76.0</td>\n",
       "      <td>4.1</td>\n",
       "      <td>1.0</td>\n",
       "    </tr>\n",
       "    <tr>\n",
       "      <th>3</th>\n",
       "      <td>06001430900</td>\n",
       "      <td>POLYGON ((6101137.659 2081426.591, 6101182.977...</td>\n",
       "      <td>30.0</td>\n",
       "      <td>1864.0</td>\n",
       "      <td>90.0</td>\n",
       "      <td>4.8</td>\n",
       "      <td>1.0</td>\n",
       "    </tr>\n",
       "    <tr>\n",
       "      <th>4</th>\n",
       "      <td>06001431000</td>\n",
       "      <td>POLYGON ((6100691.400 2077938.162, 6100718.229...</td>\n",
       "      <td>33.0</td>\n",
       "      <td>1087.0</td>\n",
       "      <td>90.0</td>\n",
       "      <td>8.3</td>\n",
       "      <td>3.0</td>\n",
       "    </tr>\n",
       "  </tbody>\n",
       "</table>\n",
       "</div>"
      ],
      "text/plain": [
       "         GEOID                                           geometry  \\\n",
       "0  06001428301  POLYGON ((6052475.926 2095914.933, 6052663.072...   \n",
       "1  06001428302  POLYGON ((6052287.465 2096919.257, 6052335.227...   \n",
       "2  06001428400  POLYGON ((6050238.370 2096212.064, 6052054.809...   \n",
       "3  06001430900  POLYGON ((6101137.659 2081426.591, 6101182.977...   \n",
       "4  06001431000  POLYGON ((6100691.400 2077938.162, 6100718.229...   \n",
       "\n",
       "   Avg_Distance  Total_Households  No_Vehicle_Available  Pct_Without_Vehicle  \\\n",
       "0          38.0            2492.0                  19.0                  0.8   \n",
       "1          31.0            2474.0                 134.0                  5.4   \n",
       "2           6.0            1873.0                  76.0                  4.1   \n",
       "3          30.0            1864.0                  90.0                  4.8   \n",
       "4          33.0            1087.0                  90.0                  8.3   \n",
       "\n",
       "   Need_Level  \n",
       "0         2.0  \n",
       "1         2.0  \n",
       "2         1.0  \n",
       "3         1.0  \n",
       "4         3.0  "
      ]
     },
     "execution_count": 20,
     "metadata": {},
     "output_type": "execute_result"
    }
   ],
   "source": [
    "# Add the new variable\n",
    "\n",
    "access_gdf[\"Need_Level\"] = np.select(condition_list, choice_list, default=np.nan)\n",
    "\n",
    "print(access_gdf.shape)\n",
    "access_gdf.head()"
   ]
  },
  {
   "cell_type": "code",
   "execution_count": 21,
   "id": "5c16335f-0464-4060-aec3-f7cf98120614",
   "metadata": {},
   "outputs": [
    {
     "data": {
      "text/plain": [
       "1.0    234\n",
       "2.0    197\n",
       "3.0    117\n",
       "Name: Need_Level, dtype: int64"
      ]
     },
     "execution_count": 21,
     "metadata": {},
     "output_type": "execute_result"
    }
   ],
   "source": [
    "# Check the distribution of values\n",
    "\n",
    "access_gdf[\"Need_Level\"].value_counts()"
   ]
  },
  {
   "cell_type": "code",
   "execution_count": 22,
   "id": "6079e471-1a15-4dd6-94fa-33d11c454f5a",
   "metadata": {},
   "outputs": [
    {
     "data": {
      "image/png": "[encoded data removed]",
      "text/plain": [
       "<Figure size 432x288 with 1 Axes>"
      ]
     },
     "metadata": {
      "needs_background": "light"
     },
     "output_type": "display_data"
    }
   ],
   "source": [
    "# Check the geographic distribution\n",
    "\n",
    "access_gdf.loc[access_gdf[\"Need_Level\"] == 3].plot();"
   ]
  },
  {
   "cell_type": "markdown",
   "id": "7ed8ef7c-d27d-40ba-bfb0-89d84f4a4137",
   "metadata": {
    "tags": []
   },
   "source": [
    "## Save the Layer to File"
   ]
  },
  {
   "cell_type": "code",
   "execution_count": 25,
   "id": "6b22361b-cc33-4e74-8aa7-ae62e4f6590a",
   "metadata": {},
   "outputs": [
    {
     "data": {
      "text/html": [
       "<div>\n",
       "<style scoped>\n",
       "    .dataframe tbody tr th:only-of-type {\n",
       "        vertical-align: middle;\n",
       "    }\n",
       "\n",
       "    .dataframe tbody tr th {\n",
       "        vertical-align: top;\n",
       "    }\n",
       "\n",
       "    .dataframe thead th {\n",
       "        text-align: right;\n",
       "    }\n",
       "</style>\n",
       "<table border=\"1\" class=\"dataframe\">\n",
       "  <thead>\n",
       "    <tr style=\"text-align: right;\">\n",
       "      <th></th>\n",
       "      <th>GEOID</th>\n",
       "      <th>Avg_Distance</th>\n",
       "      <th>Total_Households</th>\n",
       "      <th>No_Vehicle_Available</th>\n",
       "      <th>Pct_Without_Vehicle</th>\n",
       "      <th>Need_Level</th>\n",
       "      <th>geometry</th>\n",
       "    </tr>\n",
       "  </thead>\n",
       "  <tbody>\n",
       "    <tr>\n",
       "      <th>0</th>\n",
       "      <td>06001428301</td>\n",
       "      <td>38.0</td>\n",
       "      <td>2492.0</td>\n",
       "      <td>19.0</td>\n",
       "      <td>0.8</td>\n",
       "      <td>2.0</td>\n",
       "      <td>POLYGON ((6052475.926 2095914.933, 6052663.072...</td>\n",
       "    </tr>\n",
       "    <tr>\n",
       "      <th>1</th>\n",
       "      <td>06001428302</td>\n",
       "      <td>31.0</td>\n",
       "      <td>2474.0</td>\n",
       "      <td>134.0</td>\n",
       "      <td>5.4</td>\n",
       "      <td>2.0</td>\n",
       "      <td>POLYGON ((6052287.465 2096919.257, 6052335.227...</td>\n",
       "    </tr>\n",
       "    <tr>\n",
       "      <th>2</th>\n",
       "      <td>06001428400</td>\n",
       "      <td>6.0</td>\n",
       "      <td>1873.0</td>\n",
       "      <td>76.0</td>\n",
       "      <td>4.1</td>\n",
       "      <td>1.0</td>\n",
       "      <td>POLYGON ((6050238.370 2096212.064, 6052054.809...</td>\n",
       "    </tr>\n",
       "    <tr>\n",
       "      <th>3</th>\n",
       "      <td>06001430900</td>\n",
       "      <td>30.0</td>\n",
       "      <td>1864.0</td>\n",
       "      <td>90.0</td>\n",
       "      <td>4.8</td>\n",
       "      <td>1.0</td>\n",
       "      <td>POLYGON ((6101137.659 2081426.591, 6101182.977...</td>\n",
       "    </tr>\n",
       "    <tr>\n",
       "      <th>4</th>\n",
       "      <td>06001431000</td>\n",
       "      <td>33.0</td>\n",
       "      <td>1087.0</td>\n",
       "      <td>90.0</td>\n",
       "      <td>8.3</td>\n",
       "      <td>3.0</td>\n",
       "      <td>POLYGON ((6100691.400 2077938.162, 6100718.229...</td>\n",
       "    </tr>\n",
       "  </tbody>\n",
       "</table>\n",
       "</div>"
      ],
      "text/plain": [
       "         GEOID  Avg_Distance  Total_Households  No_Vehicle_Available  \\\n",
       "0  06001428301          38.0            2492.0                  19.0   \n",
       "1  06001428302          31.0            2474.0                 134.0   \n",
       "2  06001428400           6.0            1873.0                  76.0   \n",
       "3  06001430900          30.0            1864.0                  90.0   \n",
       "4  06001431000          33.0            1087.0                  90.0   \n",
       "\n",
       "   Pct_Without_Vehicle  Need_Level  \\\n",
       "0                  0.8         2.0   \n",
       "1                  5.4         2.0   \n",
       "2                  4.1         1.0   \n",
       "3                  4.8         1.0   \n",
       "4                  8.3         3.0   \n",
       "\n",
       "                                            geometry  \n",
       "0  POLYGON ((6052475.926 2095914.933, 6052663.072...  \n",
       "1  POLYGON ((6052287.465 2096919.257, 6052335.227...  \n",
       "2  POLYGON ((6050238.370 2096212.064, 6052054.809...  \n",
       "3  POLYGON ((6101137.659 2081426.591, 6101182.977...  \n",
       "4  POLYGON ((6100691.400 2077938.162, 6100718.229...  "
      ]
     },
     "execution_count": 25,
     "metadata": {},
     "output_type": "execute_result"
    }
   ],
   "source": [
    "# Save the processed accessibility data as a layer for mapping\n",
    "\n",
    "access_gdf.to_file(\"data/accessibility.geojson\", driver='GeoJSON', index=False)\n",
    "\n",
    "# Check the saved file\n",
    "gpd.read_file(\"data/accessibility.geojson\").head()"
   ]
  },
  {
   "cell_type": "code",
   "execution_count": null,
   "id": "462a7bbc-9141-48d7-8e75-0eb90e2d8520",
   "metadata": {},
   "outputs": [],
   "source": []
  }
 ],
 "metadata": {
  "kernelspec": {
   "display_name": "Python 3 (ipykernel)",
   "language": "python",
   "name": "python3"
  },
  "language_info": {
   "codemirror_mode": {
    "name": "ipython",
    "version": 3
   },
   "file_extension": ".py",
   "mimetype": "text/x-python",
   "name": "python",
   "nbconvert_exporter": "python",
   "pygments_lexer": "ipython3",
   "version": "3.9.7"
  }
 },
 "nbformat": 4,
 "nbformat_minor": 5
}
