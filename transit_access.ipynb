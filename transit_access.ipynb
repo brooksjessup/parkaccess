{
 "cells": [
  {
   "cell_type": "markdown",
   "metadata": {},
   "source": [
    "This notebook was adapted from the demo for UrbanAccess provided by UrbanSim: https://github.com/UDST/urbanaccess"
   ]
  },
  {
   "cell_type": "code",
   "execution_count": 1,
   "metadata": {},
   "outputs": [],
   "source": [
    "import matplotlib\n",
    "matplotlib.use('agg')  # allows notebook to be tested in Travis\n",
    "\n",
    "import pandas as pd\n",
    "import geopandas as gpd\n",
    "import cartopy.crs as ccrs\n",
    "import cartopy\n",
    "import matplotlib.pyplot as plt\n",
    "import pandana as pdna\n",
    "import time\n",
    "\n",
    "import urbanaccess as ua\n",
    "from urbanaccess.config import settings\n",
    "from urbanaccess.gtfsfeeds import feeds\n",
    "from urbanaccess import gtfsfeeds\n",
    "from urbanaccess.gtfs.gtfsfeeds_dataframe import gtfsfeeds_dfs\n",
    "from urbanaccess.network import ua_network, load_network\n",
    "\n",
    "%matplotlib inline"
   ]
  },
  {
   "cell_type": "code",
   "execution_count": 2,
   "metadata": {},
   "outputs": [
    {
     "data": {
      "text/plain": [
       "{'data_folder': 'data',\n",
       " 'logs_folder': 'logs',\n",
       " 'log_file': True,\n",
       " 'log_console': False,\n",
       " 'log_name': 'urbanaccess',\n",
       " 'log_filename': 'urbanaccess',\n",
       " 'txt_encoding': 'utf-8',\n",
       " 'gtfs_api': {'gtfsdataexch': 'http://www.gtfs-data-exchange.com/api/agencies?format=csv'}}"
      ]
     },
     "execution_count": 2,
     "metadata": {},
     "output_type": "execute_result"
    }
   ],
   "source": [
    "# Set default options in UrbanAccess\n",
    "\n",
    "settings.to_dict()"
   ]
  },
  {
   "cell_type": "markdown",
   "metadata": {},
   "source": [
    "## Build Transit Network"
   ]
  },
  {
   "cell_type": "code",
   "execution_count": 3,
   "metadata": {},
   "outputs": [
    {
     "data": {
      "text/plain": [
       "{'gtfs_feeds': {}}"
      ]
     },
     "execution_count": 3,
     "metadata": {},
     "output_type": "execute_result"
    }
   ],
   "source": [
    "# Create a feeds object for storing GTFS feeds\n",
    "\n",
    "feeds.to_dict()"
   ]
  },
  {
   "cell_type": "code",
   "execution_count": 4,
   "metadata": {},
   "outputs": [
    {
     "name": "stdout",
     "output_type": "stream",
     "text": [
      "Added 1 feeds to gtfs_feeds: {'Bay Area Rapid Transit': 'http://www.bart.gov/dev/schedules/google_transit.zip'}\n"
     ]
    }
   ],
   "source": [
    "# Add the BART GTFS feed\n",
    "# Information at https://www.bart.gov/schedules/developers/gtfs\n",
    "\n",
    "feeds.add_feed(add_dict={'Bay Area Rapid Transit': 'http://www.bart.gov/dev/schedules/google_transit.zip'})"
   ]
  },
  {
   "cell_type": "code",
   "execution_count": null,
   "metadata": {},
   "outputs": [],
   "source": [
    "# # Search for and add the BART GTFS feed.\n",
    "\n",
    "# gtfsfeeds.search(search_text='Bay Area Rapid Transit',\n",
    "#                  search_field=None,\n",
    "#                  match='contains',\n",
    "#                  add_feed=True)"
   ]
  },
  {
   "cell_type": "code",
   "execution_count": 5,
   "metadata": {},
   "outputs": [
    {
     "name": "stdout",
     "output_type": "stream",
     "text": [
      "Added 1 feeds to gtfs_feeds: {'ac transit': 'https://api.actransit.org/transit/gtfs/download?token=2512B81107A09D2DC44895CDDC650D47'}\n"
     ]
    }
   ],
   "source": [
    "# Add the AC Transit GTFS feed\n",
    "# Information at https://www.actransit.org/data-api-resource-center\n",
    "\n",
    "feeds.add_feed(add_dict={'ac transit': 'https://api.actransit.org/transit/gtfs/download?token=2512B81107A09D2DC44895CDDC650D47'})"
   ]
  },
  {
   "cell_type": "code",
   "execution_count": 6,
   "metadata": {},
   "outputs": [
    {
     "data": {
      "text/plain": [
       "{'gtfs_feeds': {'Bay Area Rapid Transit': 'http://www.bart.gov/dev/schedules/google_transit.zip',\n",
       "  'ac transit': 'https://api.actransit.org/transit/gtfs/download?token=2512B81107A09D2DC44895CDDC650D47'}}"
      ]
     },
     "execution_count": 6,
     "metadata": {},
     "output_type": "execute_result"
    }
   ],
   "source": [
    "# Check to make sure the feeds have been added properly\n",
    "\n",
    "feeds.to_dict()"
   ]
  },
  {
   "cell_type": "code",
   "execution_count": 7,
   "metadata": {},
   "outputs": [
    {
     "name": "stdout",
     "output_type": "stream",
     "text": [
      "2 GTFS feed(s) will be downloaded here: data/gtfsfeed_zips\n",
      "Bay Area Rapid Transit GTFS feed downloaded successfully. Took 1.02 seconds for 6,375,469.0KB\n",
      "ac transit GTFS feed downloaded successfully. Took 2.20 seconds for 13,668,512.0KB\n",
      "GTFS feed download completed. Took 3.23 seconds\n",
      "ac transit.zip successfully extracted to: data/gtfsfeed_text/ac transit\n",
      "Bay Area Rapid Transit.zip successfully extracted to: data/gtfsfeed_text/Bay Area Rapid Transit\n",
      "GTFS feed zipfile extraction completed. Took 0.40 seconds for 2 files\n"
     ]
    }
   ],
   "source": [
    "# Download the feeds into the data folder\n",
    "\n",
    "gtfsfeeds.download()"
   ]
  },
  {
   "cell_type": "code",
   "execution_count": 8,
   "metadata": {},
   "outputs": [],
   "source": [
    "# Set the bounding box for the area of study (City of Oakland)\n",
    "\n",
    "oak_bbox = (-122.355881,37.632226,-122.114775,37.884725)"
   ]
  },
  {
   "cell_type": "code",
   "execution_count": 9,
   "metadata": {},
   "outputs": [
    {
     "name": "stdout",
     "output_type": "stream",
     "text": [
      "Checking GTFS text file header whitespace... Reading files using encoding: utf-8 set in configuration.\n",
      "GTFS text file header whitespace check completed. Took 0.18 seconds\n",
      "--------------------------------\n",
      "Processing GTFS feed: ac transit\n",
      "The unique agency id: ac_transit was generated using the name of the agency in the agency.txt file.\n",
      "Unique agency id operation complete. Took 0.03 seconds\n",
      "Unique GTFS feed id operation complete. Took 0.00 seconds\n",
      "WARNING: ac transit GTFS feed stops: 2,051 of 4,728 (43.38 percent of total) record(s) are outside the bounding box coordinates\n",
      "Records:\n",
      "     stop_id  stop_code                       stop_name  stop_desc   stop_lat  \\\n",
      "1       1413      55290           Boscell Av & Braun Dr        NaN  37.502046   \n",
      "5       4791      56211              Eddy St & Kelly St        NaN  37.686359   \n",
      "6       1526      53306                   D St & 5th St        NaN  37.675724   \n",
      "9       5205      50906        Mission Blvd & Hunter Ln        NaN  37.520526   \n",
      "11      3958      54584        Harbour Way & Bissell Av        NaN  37.933860   \n",
      "...      ...        ...                             ...        ...        ...   \n",
      "4712    1243      50890    Paseo Padre Pkwy & Darwin Dr        NaN  37.580007   \n",
      "4713    1018      56002     Civic Center Dr & Walnut Av        NaN  37.553630   \n",
      "4714    1306      52350  S Grimmer Blvd & Technology Dr        NaN  37.505050   \n",
      "4719    1376      56151  Washington Blvd & Ellsworth St        NaN  37.533261   \n",
      "4720    4554      56113        San Pablo Av & Church Ln        NaN  37.958506   \n",
      "\n",
      "        stop_lon zone_id  stop_url  location_type  parent_station  \\\n",
      "1    -121.974908       E       NaN            NaN             NaN   \n",
      "5    -122.047793       E       NaN            NaN             NaN   \n",
      "6    -122.072502       E       NaN            NaN             NaN   \n",
      "9    -121.917739       E       NaN            NaN             NaN   \n",
      "11   -122.360105       E       NaN            NaN             NaN   \n",
      "...          ...     ...       ...            ...             ...   \n",
      "4712 -122.031314       E       NaN            NaN             NaN   \n",
      "4713 -121.975125       E       NaN            NaN             NaN   \n",
      "4714 -121.958626       E       NaN            NaN             NaN   \n",
      "4719 -121.922085       E       NaN            NaN             NaN   \n",
      "4720 -122.339689       E       NaN            NaN             NaN   \n",
      "\n",
      "      stop_timezone  wheelchair_boarding unique_agency_id unique_feed_id  \n",
      "1               NaN                    0       ac_transit   ac_transit_1  \n",
      "5               NaN                    0       ac_transit   ac_transit_1  \n",
      "6               NaN                    0       ac_transit   ac_transit_1  \n",
      "9               NaN                    0       ac_transit   ac_transit_1  \n",
      "11              NaN                    0       ac_transit   ac_transit_1  \n",
      "...             ...                  ...              ...            ...  \n",
      "4712            NaN                    0       ac_transit   ac_transit_1  \n",
      "4713            NaN                    0       ac_transit   ac_transit_1  \n",
      "4714            NaN                    0       ac_transit   ac_transit_1  \n",
      "4719            NaN                    0       ac_transit   ac_transit_1  \n",
      "4720            NaN                    0       ac_transit   ac_transit_1  \n",
      "\n",
      "[2051 rows x 14 columns]\n",
      "Removed identified stops that are outside of bounding box.\n",
      "ac transit GTFS feed stops: coordinates are in northwest hemisphere. Latitude = North (90); Longitude = West (-90).\n",
      "Appended route type to stops\n",
      "Appended route type to stop_times\n",
      "--------------------------------\n",
      "--------------------------------\n",
      "Processing GTFS feed: Bay Area Rapid Transit\n",
      "The unique agency id: bay_area_rapid_transit was generated using the name of the agency in the agency.txt file.\n",
      "Unique agency id operation complete. Took 0.01 seconds\n",
      "Unique GTFS feed id operation complete. Took 0.00 seconds\n",
      "WARNING: Bay Area Rapid Transit GTFS feed stops: 123 of 182 (67.58 percent of total) record(s) are outside the bounding box coordinates\n",
      "Records:\n",
      "    stop_id  stop_code                              stop_name  \\\n",
      "5      HAYW        NaN                                Hayward   \n",
      "6      SHAY        NaN                          South Hayward   \n",
      "7      UCTY        NaN                             Union City   \n",
      "8      FRMT        NaN                                Fremont   \n",
      "11     LAFY        NaN                              Lafayette   \n",
      "..      ...        ...                                    ...   \n",
      "177  PITT_1        NaN  Enter/Exit : Station entrance (South)   \n",
      "178  DELN_1        NaN  Enter/Exit : Station entrance (North)   \n",
      "179  DELN_2        NaN  Enter/Exit : Station entrance (South)   \n",
      "180  MLPT_1        NaN           Enter/Exit: Station entrance   \n",
      "181  BERY_1        NaN           Enter/Exit: Station entrance   \n",
      "\n",
      "                    stop_desc   stop_lat    stop_lon zone_id plc_url  \\\n",
      "5                         NaN  37.669699 -122.086958    HAYW     NaN   \n",
      "6                         NaN  37.634340 -122.057182    SHAY     NaN   \n",
      "7                         NaN  37.590735 -122.017248    UCTY     NaN   \n",
      "8                         NaN  37.557480 -121.976619    FRMT     NaN   \n",
      "11                        NaN  37.893183 -122.124620    LAFY     NaN   \n",
      "..                        ...        ...         ...     ...     ...   \n",
      "177  Station entrance (South)  38.018237 -121.945339     NaN     NaN   \n",
      "178  Station entrance (North)  37.925323 -122.317023     NaN     NaN   \n",
      "179  Station entrance (South)  37.924976 -122.316747     NaN     NaN   \n",
      "180          Station entrance  37.410155 -121.890683     NaN     NaN   \n",
      "181          Station entrance  37.368488 -121.874458     NaN     NaN   \n",
      "\n",
      "     location_type parent_station        unique_agency_id  \\\n",
      "5                0     place_HAYW  bay_area_rapid_transit   \n",
      "6                0     place_SHAY  bay_area_rapid_transit   \n",
      "7                0     place_UCTY  bay_area_rapid_transit   \n",
      "8                0     place_FRMT  bay_area_rapid_transit   \n",
      "11               0     place_LAFY  bay_area_rapid_transit   \n",
      "..             ...            ...                     ...   \n",
      "177              2     place_PITT  bay_area_rapid_transit   \n",
      "178              2     place_DELN  bay_area_rapid_transit   \n",
      "179              2     place_DELN  bay_area_rapid_transit   \n",
      "180              2     place_MLPT  bay_area_rapid_transit   \n",
      "181              2     place_BERY  bay_area_rapid_transit   \n",
      "\n",
      "               unique_feed_id  \n",
      "5    bay_area_rapid_transit_2  \n",
      "6    bay_area_rapid_transit_2  \n",
      "7    bay_area_rapid_transit_2  \n",
      "8    bay_area_rapid_transit_2  \n",
      "11   bay_area_rapid_transit_2  \n",
      "..                        ...  \n",
      "177  bay_area_rapid_transit_2  \n",
      "178  bay_area_rapid_transit_2  \n",
      "179  bay_area_rapid_transit_2  \n",
      "180  bay_area_rapid_transit_2  \n",
      "181  bay_area_rapid_transit_2  \n",
      "\n",
      "[123 rows x 12 columns]\n",
      "Removed identified stops that are outside of bounding box.\n",
      "Bay Area Rapid Transit GTFS feed stops: coordinates are in northwest hemisphere. Latitude = North (90); Longitude = West (-90).\n",
      "Appended route type to stops\n",
      "Appended route type to stop_times\n",
      "--------------------------------\n",
      "Added descriptive definitions to stops, routes, stop_times, and trips tables\n",
      "Successfully converted ['departure_time'] to seconds past midnight and appended new columns to stop_times. Took 1.01 seconds\n",
      "2 GTFS feed file(s) successfully read as dataframes:\n",
      "     ac transit\n",
      "     Bay Area Rapid Transit\n",
      "     Took 3.05 seconds\n"
     ]
    }
   ],
   "source": [
    "# Load the transit data into a collection of DataFrames\n",
    "\n",
    "loaded_feeds = ua.gtfs.load.gtfsfeed_to_df(gtfsfeed_path= None,\n",
    "                                           validation= True,\n",
    "                                           verbose= True,\n",
    "                                           bbox= oak_bbox,\n",
    "                                           remove_stops_outsidebbox = True,\n",
    "                                           append_definitions= True)"
   ]
  },
  {
   "cell_type": "code",
   "execution_count": 12,
   "metadata": {},
   "outputs": [
    {
     "name": "stdout",
     "output_type": "stream",
     "text": [
      "Using calendar to extract service_ids to select trips.\n",
      "5 service_ids were extracted from calendar\n",
      "4,645 trip(s) 28.40 percent of 16,357 total trip records were found in calendar for GTFS feed(s): ['ac transit', 'bay area rapid transit']\n",
      "NOTE: If you expected more trips to have been extracted and your GTFS feed(s) have a calendar_dates file, consider utilizing the calendar_dates_lookup parameter in order to add additional trips based on information inside of calendar_dates. This should only be done if you know the corresponding GTFS feed is using calendar_dates instead of calendar to specify service_ids. When in doubt do not use the calendar_dates_lookup parameter.\n",
      "4,645 of 16,357 total trips were extracted representing calendar day: saturday. Took 0.03 seconds\n",
      "There are no departure time records missing from trips following the specified schedule. There are no records to interpolate.\n",
      "Difference between stop times has been successfully calculated. Took 0.44 seconds\n",
      "Stop times from 11:00:00 to 14:00:00 successfully selected 20,334 records out of 121,041 total records (16.80 percent of total). Took 0.03 seconds\n",
      "Starting transformation process for 767 total trips...\n",
      "stop time table transformation to Pandana format edge table completed. Took 0.82 seconds\n",
      "Time conversion completed: seconds converted to minutes.\n",
      "2,068 of 2,736 records selected from stops. Took 0.00 seconds\n",
      "stop time table transformation to Pandana format node table completed. Took 0.00 seconds\n",
      "route type successfully joined to transit edges. Took 0.43 seconds\n",
      "route id successfully joined to transit edges. Took 0.03 seconds\n",
      "Successfully created transit network. Took 2.36 seconds\n"
     ]
    },
    {
     "data": {
      "text/plain": [
       "<urbanaccess.network.urbanaccess_network at 0x18a4d8970>"
      ]
     },
     "execution_count": 12,
     "metadata": {},
     "output_type": "execute_result"
    }
   ],
   "source": [
    "# Create a travel-time-weighted transit network from the GTFS feeds.\n",
    "# Specify the network for midday on a saturday when people are likely to visit parks.\n",
    "\n",
    "ua.gtfs.network.create_transit_net(gtfsfeeds_dfs=loaded_feeds,\n",
    "                                   day='saturday',\n",
    "                                   timerange=['11:00:00', '14:00:00'],\n",
    "                                   calendar_dates_lookup=None)"
   ]
  },
  {
   "cell_type": "code",
   "execution_count": 13,
   "metadata": {},
   "outputs": [
    {
     "name": "stdout",
     "output_type": "stream",
     "text": [
      "Stop times from 11:00:00 to 14:00:00 successfully selected 20,334 records out of 121,041 total records (16.80 percent of total). Took 0.00 seconds\n",
      "Starting route stop headway calculation for 2,762 route stops...\n",
      "Route stop headway calculation complete. Took 3.66 seconds\n",
      "headway calculation complete. Took 3.94 seconds\n"
     ]
    },
    {
     "data": {
      "text/plain": [
       "<urbanaccess.gtfs.gtfsfeeds_dataframe.urbanaccess_gtfs_df at 0x18a0a1fa0>"
      ]
     },
     "execution_count": 13,
     "metadata": {},
     "output_type": "execute_result"
    }
   ],
   "source": [
    "# Calculate route stop level average headways \n",
    "# to approximate passenger wait times at stops and stations.\n",
    "\n",
    "ua.gtfs.headways.headways(gtfsfeeds_df=loaded_feeds,\n",
    "                          headway_timerange=['11:00:00','14:00:00'])"
   ]
  },
  {
   "cell_type": "code",
   "execution_count": 14,
   "metadata": {},
   "outputs": [],
   "source": [
    "# Save the transit network to a variable\n",
    "\n",
    "urbanaccess_net = ua.network.ua_network"
   ]
  },
  {
   "cell_type": "code",
   "execution_count": 15,
   "metadata": {},
   "outputs": [
    {
     "data": {
      "text/plain": [
       "<AxesSubplot:xlabel='x', ylabel='y'>"
      ]
     },
     "execution_count": 15,
     "metadata": {},
     "output_type": "execute_result"
    },
    {
     "data": {
      "image/png": "[encoded data removed]",
      "text/plain": [
       "<Figure size 432x288 with 1 Axes>"
      ]
     },
     "metadata": {
      "needs_background": "light"
     },
     "output_type": "display_data"
    }
   ],
   "source": [
    "# Visualize the transit network\n",
    "\n",
    "urbanaccess_net.transit_nodes.plot(kind='scatter', x='x', y='y', s=0.1)"
   ]
  },
  {
   "cell_type": "markdown",
   "metadata": {},
   "source": [
    "## Build Pedestrian Network"
   ]
  },
  {
   "cell_type": "code",
   "execution_count": null,
   "metadata": {},
   "outputs": [],
   "source": [
    "# Download OSM pedestrian street network data\n",
    "\n",
    "nodes, edges = ua.osm.load.ua_network_from_bbox(bbox= oak_bbox,\n",
    "                                                remove_lcn=True)"
   ]
  },
  {
   "cell_type": "code",
   "execution_count": null,
   "metadata": {},
   "outputs": [],
   "source": [
    "# Create a travel-time-weighted pedestrian network.\n",
    "# It is automatically added to the same variable as the transit network\n",
    "\n",
    "ua.osm.network.create_osm_net(osm_edges=edges,\n",
    "                              osm_nodes=nodes,\n",
    "                              travel_speed_mph=3)"
   ]
  },
  {
   "cell_type": "code",
   "execution_count": null,
   "metadata": {},
   "outputs": [],
   "source": [
    "# Visualize the pedestrian network\n",
    "\n",
    "urbanaccess_net.osm_nodes.plot(kind='scatter', x='x', y='y', s=0.1)"
   ]
  },
  {
   "cell_type": "markdown",
   "metadata": {},
   "source": [
    "## Integrate Transit + Pedestrian Networks"
   ]
  },
  {
   "cell_type": "code",
   "execution_count": null,
   "metadata": {},
   "outputs": [],
   "source": [
    "# Integrate the networks (still in our urbanaccess_net variable)\n",
    "\n",
    "ua.network.integrate_network(urbanaccess_network=urbanaccess_net,\n",
    "                             headways=True,\n",
    "                             urbanaccess_gtfsfeeds_df=loaded_feeds,\n",
    "                             headway_statistic='mean')"
   ]
  },
  {
   "cell_type": "code",
   "execution_count": null,
   "metadata": {},
   "outputs": [],
   "source": [
    "# Visualize the integrated network\n",
    "\n",
    "ua.plot.plot_net(nodes=urbanaccess_net.net_nodes,\n",
    "                 edges=urbanaccess_net.net_edges,\n",
    "                 bbox=oak_bbox,\n",
    "                 fig_height=30, margin=0.02,\n",
    "                 edge_color='#999999', edge_linewidth=1, edge_alpha=1,\n",
    "                 node_color='black', node_size=1.1, node_alpha=1, node_edgecolor='none', node_zorder=3, nodes_only=False)"
   ]
  },
  {
   "cell_type": "code",
   "execution_count": null,
   "metadata": {},
   "outputs": [],
   "source": [
    "# Save the network as an HDF5 file\n",
    "\n",
    "ua.network.save_network(urbanaccess_network=urbanaccess_net,\n",
    "                        filename='final_net.h5',\n",
    "                        overwrite_key = True)"
   ]
  },
  {
   "cell_type": "code",
   "execution_count": null,
   "metadata": {},
   "outputs": [],
   "source": [
    "# Load the saved network from file\n",
    "\n",
    "urbanaccess_net = ua.network.load_network(filename='final_net.h5')"
   ]
  },
  {
   "cell_type": "markdown",
   "metadata": {},
   "source": [
    "## Calculate Accessibility"
   ]
  },
  {
   "cell_type": "code",
   "execution_count": null,
   "metadata": {},
   "outputs": [],
   "source": [
    "# Initialize a pandana network\n",
    "\n",
    "transit_ped_net = pdna.Network(urbanaccess_net.net_nodes[\"x\"],\n",
    "                               urbanaccess_net.net_nodes[\"y\"],\n",
    "                               urbanaccess_net.net_edges[\"from_int\"],\n",
    "                               urbanaccess_net.net_edges[\"to_int\"],\n",
    "                               urbanaccess_net.net_edges[[\"weight\"]], \n",
    "                               twoway=False)"
   ]
  },
  {
   "cell_type": "code",
   "execution_count": null,
   "metadata": {},
   "outputs": [],
   "source": [
    "# extract (approximate, unprojected) centroids from the park geometries\n",
    "\n",
    "parks_df = gpd.read_file(\"data/East_Bay_Regional_Parks.geojson\")\n",
    "centroids = parks_df.centroid"
   ]
  },
  {
   "cell_type": "code",
   "execution_count": null,
   "metadata": {},
   "outputs": [],
   "source": [
    "# select the nodes in the network where parks are located\n",
    "\n",
    "node_ids = transit_ped_net.get_node_ids(centroids.x, centroids.y)"
   ]
  },
  {
   "cell_type": "code",
   "execution_count": null,
   "metadata": {},
   "outputs": [],
   "source": [
    "# set a variable related to the park nodes in the network\n",
    "\n",
    "transit_ped_net.set(node_ids, name='parks')"
   ]
  },
  {
   "cell_type": "code",
   "execution_count": null,
   "metadata": {},
   "outputs": [],
   "source": [
    "# calculate the variable for every origin node in the network\n",
    "# as the number of park nodes within a maximum distance of it\n",
    "\n",
    "maxdist = 30\n",
    "\n",
    "access = transit_ped_net.aggregate(maxdist,\n",
    "                           type='count',\n",
    "                           decay='linear',\n",
    "                           name='parks'\n",
    "                          )\n",
    "\n",
    "# Cap the variable at 5 parks\n",
    "access= access.clip(upper=5)\n",
    "\n",
    "access.describe()"
   ]
  },
  {
   "cell_type": "markdown",
   "metadata": {},
   "source": [
    "Note how the radius of the number of jobs accessible expands as the time threshold increases where high accessibility is indicated in dark red. You can easily see downtown Oakland has the highest accessibility due to a convergence of transit routes and because downtown is where the majority of jobs in the area are located. Other high accessibility areas are visible elsewhere directly adjacent to BART metro rail stations of West Oakland, Fruitvale, and Coliseum and AC Transit bus routes on the main arterial road corridors."
   ]
  },
  {
   "cell_type": "code",
   "execution_count": null,
   "metadata": {},
   "outputs": [],
   "source": [
    "# plot the number of parks within the maximum distance\n",
    "# of each node in the network\n",
    "\n",
    "fig = plt.subplots(figsize=(20,20))\n",
    "\n",
    "data_crs = ccrs.PlateCarree()\n",
    "ax = plt.axes(projection=ccrs.epsg(26943))\n",
    "ax.add_feature(cartopy.feature.GSHHSFeature(scale='full'), edgecolor='grey')\n",
    "\n",
    "plt.scatter(transit_ped_net.nodes_df.x, transit_ped_net.nodes_df.y, \n",
    "            c=access, s=4, cmap='gist_heat_r', edgecolor='none', transform=data_crs)\n",
    "cb = plt.colorbar()"
   ]
  },
  {
   "cell_type": "code",
   "execution_count": null,
   "metadata": {},
   "outputs": [],
   "source": []
  }
 ],
 "metadata": {
  "kernelspec": {
   "display_name": "Python 3 (ipykernel)",
   "language": "python",
   "name": "python3"
  },
  "language_info": {
   "codemirror_mode": {
    "name": "ipython",
    "version": 3
   },
   "file_extension": ".py",
   "mimetype": "text/x-python",
   "name": "python",
   "nbconvert_exporter": "python",
   "pygments_lexer": "ipython3",
   "version": "3.9.7"
  }
 },
 "nbformat": 4,
 "nbformat_minor": 4
}
